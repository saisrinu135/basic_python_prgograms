{
 "cells": [
  {
   "attachments": {},
   "cell_type": "markdown",
   "metadata": {},
   "source": [
    "43. WAP to check whether a number is positive or negative. If positive diaplsy positive message. If negative display negative message."
   ]
  },
  {
   "cell_type": "code",
   "execution_count": null,
   "metadata": {},
   "outputs": [],
   "source": [
    "n = int(input())\n",
    "if n>0:\n",
    "    print(\"Positive\")\n",
    "else:\n",
    "    print(\"Negative\")"
   ]
  },
  {
   "attachments": {},
   "cell_type": "markdown",
   "metadata": {},
   "source": [
    "44. WAP to check whether a number is even or odd. If even, print an even or else print message odd."
   ]
  },
  {
   "cell_type": "code",
   "execution_count": null,
   "metadata": {},
   "outputs": [],
   "source": [
    "n = int(input())\n",
    "if n %2==0:\n",
    "    print(\"even\")\n",
    "else:\n",
    "    print(\"Odd\")"
   ]
  },
  {
   "attachments": {},
   "cell_type": "markdown",
   "metadata": {},
   "source": [
    "45. WAP to check whether a given number is greater then 10 or not. If it is, print message as greater and print that number else, print not greater then 10 and number."
   ]
  },
  {
   "cell_type": "code",
   "execution_count": null,
   "metadata": {},
   "outputs": [],
   "source": [
    "n = int(input())\n",
    "if n >10:\n",
    "    print(\"The number is greater then 10\", n)\n",
    "else:\n",
    "    print(\"The number is smaller than 10\",n)"
   ]
  },
  {
   "attachments": {},
   "cell_type": "markdown",
   "metadata": {},
   "source": [
    "46. WAp to check whether a given value is present in between 45 and 125. If the value is present print the ascii character."
   ]
  },
  {
   "cell_type": "code",
   "execution_count": null,
   "metadata": {},
   "outputs": [],
   "source": [
    "n = int(input())\n",
    "if 45<n<125:\n",
    "    print(chr(n))"
   ]
  },
  {
   "attachments": {},
   "cell_type": "markdown",
   "metadata": {},
   "source": [
    "47. WAP to accept two integers and check whether thay are equal or not. If equal, multiply to value or quotation value and display it."
   ]
  },
  {
   "cell_type": "code",
   "execution_count": null,
   "metadata": {},
   "outputs": [],
   "source": [
    "n = int(input())\n",
    "m = int(input())\n",
    "if m == n:\n",
    "    print(m*n)\n",
    "else:\n",
    "    print(str(m))\n",
    "    print(str(n))"
   ]
  },
  {
   "attachments": {},
   "cell_type": "markdown",
   "metadata": {},
   "source": [
    "48. WAP to find the greatest of two numbers"
   ]
  },
  {
   "cell_type": "code",
   "execution_count": null,
   "metadata": {},
   "outputs": [],
   "source": [
    "n = int(input())\n",
    "m = int(input)\n",
    "if n>m:\n",
    "    print(\"n, \"is greatest\")\n",
    "else:\n",
    "    print(m, \"is the greatest\")"
   ]
  },
  {
   "attachments": {},
   "cell_type": "markdown",
   "metadata": {},
   "source": [
    "49. WAP to find the smallest of two numbers"
   ]
  },
  {
   "cell_type": "code",
   "execution_count": null,
   "metadata": {},
   "outputs": [],
   "source": [
    "n = int(inp())\n",
    "m = int(input())\n",
    "if n<m:\n",
    "    print(n, \"is the smallest\")\n",
    "else:\n",
    "    print(m, \"is the smallest\")"
   ]
  },
  {
   "attachments": {},
   "cell_type": "markdown",
   "metadata": {},
   "source": [
    "50. WAP to check whether the given number is even or odd. If it is even then make is an odd number. If it is an odd number then make it as a even number"
   ]
  },
  {
   "cell_type": "code",
   "execution_count": null,
   "metadata": {},
   "outputs": [],
   "source": [
    "n = int(input())\n",
    "if n%2==0:\n",
    "    print(n+1)\n",
    "else:\n",
    "    print(n+1)"
   ]
  },
  {
   "attachments": {},
   "cell_type": "markdown",
   "metadata": {},
   "source": [
    "51. WAp to check whether the given number lies between 1 to 19, if it is true square that number or else false cube that number and display the number."
   ]
  },
  {
   "cell_type": "code",
   "execution_count": null,
   "metadata": {},
   "outputs": [],
   "source": [
    "n = int(input())\n",
    "if 1<n<19:\n",
    "    print(n**2)\n",
    "else:\n",
    "    print(n**3)"
   ]
  },
  {
   "attachments": {},
   "cell_type": "markdown",
   "metadata": {},
   "source": [
    "52. WAP to check whether a given value is even and in range of 47 and 58 and not in 0 or odd. If condition is True, perform display the ascii character or else perform floor division with 5 and display it."
   ]
  },
  {
   "cell_type": "code",
   "execution_count": null,
   "metadata": {},
   "outputs": [],
   "source": [
    "n = int(input())\n",
    "if n%2==0 and 47<n<=58:\n",
    "    print(chr(n))\n",
    "else:\n",
    "    print(n//5)"
   ]
  },
  {
   "attachments": {},
   "cell_type": "markdown",
   "metadata": {},
   "source": [
    "53. WAP to check whether a given value is less than 125 and in between 47 and 125 or not. If condition is True, perform store the given value as key and value as a character in to dict or else to append the value in list and display it."
   ]
  },
  {
   "cell_type": "code",
   "execution_count": null,
   "metadata": {},
   "outputs": [],
   "source": [
    "n = int(input())\n",
    "lis=[]\n",
    "dic = {}\n",
    "if 47<=n<=125:\n",
    "    dic[n] = chr(n)\n",
    "    print(dic)\n",
    "else:\n",
    "    lis+=[n]\n",
    "    print(lis)"
   ]
  },
  {
   "attachments": {},
   "cell_type": "markdown",
   "metadata": {},
   "source": [
    "54. WAP to chech whether a given character is in the alphabet or not. If alphabet, display the alphabet with character or else display the not alphabet with character"
   ]
  },
  {
   "cell_type": "code",
   "execution_count": null,
   "metadata": {},
   "outputs": [],
   "source": [
    "ch = input()\n",
    "if 'A'<=ch<='Z' or 'a'<=ch<='z':\n",
    "    print(\"the alphabet:\",ch)\n",
    "else:\n",
    "    print(\"Not alphabet:\",ch)"
   ]
  },
  {
   "attachments": {},
   "cell_type": "markdown",
   "metadata": {},
   "source": [
    "55. WAP to check whether a given character is uppercase or other character. If uppercase, display the upper case with character or else display the othercase with character"
   ]
  },
  {
   "cell_type": "code",
   "execution_count": null,
   "metadata": {},
   "outputs": [],
   "source": [
    "ch = input()\n",
    "if 'A'<=ch<='Z':\n",
    "    print(\"Uppercase:\",ch)\n",
    "else:\n",
    "    print(\"Othercase:\",ch)"
   ]
  },
  {
   "attachments": {},
   "cell_type": "markdown",
   "metadata": {},
   "source": [
    "56. WAP to check whether a given character is lowercase or othercase. If lowercase, display the lowercase with character or else display the othercase with character."
   ]
  },
  {
   "cell_type": "code",
   "execution_count": null,
   "metadata": {},
   "outputs": [],
   "source": [
    "ch = input()\n",
    "if 'a'<=ch<='z':\n",
    "    print(\"Lowercase:\",ch)\n",
    "else:\n",
    "    print(\"Othercase:\",ch)"
   ]
  },
  {
   "attachments": {},
   "cell_type": "markdown",
   "metadata": {},
   "source": [
    "57. WAP to check whether a given character is uppercase. If uppercase, convert it into lowercase else display the ascii number."
   ]
  },
  {
   "cell_type": "code",
   "execution_count": null,
   "metadata": {},
   "outputs": [],
   "source": [
    "ch = input()\n",
    "if 'A'<=ch<='Z':\n",
    "    print(chr(ord(ch)+32))\n",
    "else:\n",
    "    print(ord(ch))"
   ]
  },
  {
   "attachments": {},
   "cell_type": "markdown",
   "metadata": {},
   "source": [
    "58. WAP to check whether the given character is in lowercase or uppercase. If it is in lowercase, convert it into upper, or else it is in the uppercase, convert into lowercase and display the value."
   ]
  },
  {
   "cell_type": "code",
   "execution_count": null,
   "metadata": {},
   "outputs": [],
   "source": [
    "ch = input()\n",
    "if 'A'<=ch<='Z':\n",
    "    print(chr(ord(ch)-32))\n",
    "else:\n",
    "    print(chr(ord(ch)+32))"
   ]
  },
  {
   "attachments": {},
   "cell_type": "markdown",
   "metadata": {},
   "source": [
    "59. WAP to check whether a given character is a vowel or consonent. If vowel, print the next character of a given character or else print the previous character"
   ]
  },
  {
   "cell_type": "code",
   "execution_count": null,
   "metadata": {},
   "outputs": [],
   "source": [
    "ch = input()\n",
    "if ch in \"AEIOUaeiou\":\n",
    "    print(chr(ord(ch)+1))\n",
    "else:\n",
    "    print(chr(ord(ch)-1))"
   ]
  },
  {
   "attachments": {},
   "cell_type": "markdown",
   "metadata": {},
   "source": [
    "60. WAP to check a given string of first character is alphabet or not. If alphabet print, reverse the string or else print the middle character"
   ]
  },
  {
   "cell_type": "code",
   "execution_count": null,
   "metadata": {},
   "outputs": [],
   "source": [
    "str1 = input()\n",
    "if 'A'<=str1[0]<='Z' or 'a'<=str1[0]<='z':\n",
    "    print(str1[::-1])\n",
    "else:\n",
    "    print(str1[len(str1)//2])"
   ]
  },
  {
   "attachments": {},
   "cell_type": "markdown",
   "metadata": {},
   "source": [
    "61. WAP to check whether a given string is even length or not. If even, to append the new string called \"bye\" or else print the first and last characters."
   ]
  },
  {
   "cell_type": "code",
   "execution_count": 4,
   "metadata": {},
   "outputs": [
    {
     "name": "stdout",
     "output_type": "stream",
     "text": [
      "si\n"
     ]
    }
   ],
   "source": [
    "str1 = input()\n",
    "if len(str1)%2==0:\n",
    "    str1+=\"bye\"\n",
    "    print(str1)\n",
    "else:\n",
    "    print(str1[0::len(str1)-1])"
   ]
  },
  {
   "attachments": {},
   "cell_type": "markdown",
   "metadata": {},
   "source": [
    "62. WAP to check wehtehr the given year is leap year or not. If leap year print leap year."
   ]
  },
  {
   "cell_type": "code",
   "execution_count": null,
   "metadata": {},
   "outputs": [],
   "source": [
    "year = int(input())\n",
    "if year%4==0:\n",
    "    print(\"Leap year\")\n",
    "else:\n",
    "    print(\"Not leap year\")"
   ]
  },
  {
   "attachments": {},
   "cell_type": "markdown",
   "metadata": {},
   "source": [
    "63. WAP to find out the greatest of two numbers and display the greatest number. If greatest number, display the greatest message with value"
   ]
  },
  {
   "cell_type": "code",
   "execution_count": null,
   "metadata": {},
   "outputs": [],
   "source": [
    "n = int(input())\n",
    "m = int(input())\n",
    "if m>n:\n",
    "    print(m,\"M is greatest\")\n",
    "else:\n",
    "    print(n, \"N is greatest\")"
   ]
  },
  {
   "attachments": {},
   "cell_type": "markdown",
   "metadata": {},
   "source": [
    "64. WAP to check whether the given value is present inside the given collection or not. If value is present, display the value is available or else the value is not present."
   ]
  },
  {
   "cell_type": "code",
   "execution_count": null,
   "metadata": {},
   "outputs": [],
   "source": [
    "n = eval(input())\n",
    "coll = [1,2,3,4,5,6,7,8,9,10,'a','b']\n",
    "if n in coll:\n",
    "    print(\"Value is present in collection\")\n",
    "else:\n",
    "    print(\"The value is not present.\")"
   ]
  },
  {
   "attachments": {},
   "cell_type": "markdown",
   "metadata": {},
   "source": [
    "65. WAP to check whether a given value is a list and first and last values shoud be integer. If condition is satisfied first value is divisible by 5 and perform the bitwise not for the last value and values are stored in same positions in list or else 2 power length of the collection and display it."
   ]
  },
  {
   "cell_type": "code",
   "execution_count": null,
   "metadata": {},
   "outputs": [],
   "source": [
    "n = eval(input())\n",
    "if type(n)==list and type(n[0])==int and type(n[-1]==int):\n",
    "    n[0] = n[0]/5\n",
    "    n[-1] = ~ n[-1]\n",
    "else:\n",
    "    print(len(n)**2)"
   ]
  },
  {
   "attachments": {},
   "cell_type": "markdown",
   "metadata": {},
   "source": [
    "66. WAP to check if the given string of first and second character should be sequence or not. If the sequence prints the first, second nad last two characters, or else the first half string is reversed and the remaining half string should be normal and display it."
   ]
  },
  {
   "attachments": {},
   "cell_type": "markdown",
   "metadata": {},
   "source": [
    "67. WAP to check whether a given key is present in the dictionary or not. If the key is present display the value or else add key and ney value imside the dict."
   ]
  },
  {
   "cell_type": "code",
   "execution_count": 4,
   "metadata": {},
   "outputs": [
    {
     "name": "stdout",
     "output_type": "stream",
     "text": [
      "sunny\n"
     ]
    }
   ],
   "source": [
    "item = input()\n",
    "dict = {'name': 'sunny','age':22,'gender':'male'}\n",
    "if item in dict.keys():\n",
    "    print(dict[item])\n",
    "else:\n",
    "    dict[item] = input()\n",
    "    print(dict)"
   ]
  },
  {
   "attachments": {},
   "cell_type": "markdown",
   "metadata": {},
   "source": [
    "68. WAP to check whether a given collection is set or not. If set, append the new value, or else eliminate the duplicate values in collection. Final results should be set type."
   ]
  },
  {
   "cell_type": "code",
   "execution_count": null,
   "metadata": {},
   "outputs": [],
   "source": [
    "item = eval(input())\n",
    "if type(item)==set:\n",
    "    item | {input()}\n",
    "else:\n",
    "    print(set(item))"
   ]
  },
  {
   "attachments": {},
   "cell_type": "markdown",
   "metadata": {},
   "source": [
    "69. WAP to read the age of a candidate and determine whether it is eligible for his/her own vote or not. If eligible print age and eligible messages or else print not eligible."
   ]
  },
  {
   "cell_type": "code",
   "execution_count": null,
   "metadata": {},
   "outputs": [],
   "source": [
    "age = int(input())\n",
    "if age>=18:\n",
    "    print(age, \"You are Eligible\")\n",
    "else:\n",
    "    print(age, \"You are not eligible\")"
   ]
  },
  {
   "attachments": {},
   "cell_type": "markdown",
   "metadata": {},
   "source": [
    "70. WAP to check whether a given value is even and in between 47 and 58 and not in 0 or odd. If condition is True, to perform display the ASCII character. Or else to perform floor division with 5 and display it."
   ]
  },
  {
   "cell_type": "code",
   "execution_count": null,
   "metadata": {},
   "outputs": [],
   "source": [
    "n = int(input())\n",
    "if n!=0 and 47<n<58:\n",
    "    print(ord(n))\n",
    "else:\n",
    "    print(n//5)"
   ]
  },
  {
   "attachments": {},
   "cell_type": "markdown",
   "metadata": {},
   "source": [
    "71. WAP to check whether the given string is palindrome or not if it is palindrome string palindrome along with the string if it is not a palindrome print not palindrome."
   ]
  },
  {
   "cell_type": "code",
   "execution_count": 5,
   "metadata": {},
   "outputs": [
    {
     "name": "stdout",
     "output_type": "stream",
     "text": [
      "sas String is palindrome\n"
     ]
    }
   ],
   "source": [
    "str1 = input()\n",
    "str1.casefold\n",
    "if str1 == str1[::-1]:\n",
    "    print(str1, \"String is palindrome\")\n",
    "else:\n",
    "    print(str1, \"String is not palindrome\")"
   ]
  },
  {
   "attachments": {},
   "cell_type": "markdown",
   "metadata": {},
   "source": [
    "72. WAP to check whether a given number is palindrome or not. If palindrome, display the given value as palindrome or else not a palindrome."
   ]
  },
  {
   "cell_type": "code",
   "execution_count": null,
   "metadata": {},
   "outputs": [],
   "source": [
    "n = int(input())\n",
    "n = str(n)\n",
    "n.casefold\n",
    "if n == n[::-1]:\n",
    "    print(n, \"Number is palindrome\")\n",
    "else:\n",
    "    print(n, \"is not palindrome\")"
   ]
  },
  {
   "attachments": {},
   "cell_type": "markdown",
   "metadata": {},
   "source": [
    "73. WAP to check length of both string collections equal or not. If both are equal print the concat the two strings and display, or else if any one of the collections not equal print both the collections with lengths."
   ]
  },
  {
   "cell_type": "code",
   "execution_count": 10,
   "metadata": {},
   "outputs": [
    {
     "name": "stdout",
     "output_type": "stream",
     "text": [
      "The length of [1, 2, 3, 4] is 4\n",
      "The length of [123] is 1\n"
     ]
    }
   ],
   "source": [
    "coll1 = eval(input())\n",
    "coll2 = eval(input())\n",
    "if len(coll1) == len(coll2):\n",
    "    print(coll1+coll2)\n",
    "else:\n",
    "    print(\"The length of {} is {}\".format(coll1,len(coll1)))\n",
    "    print(\"The length of {} is {}\".format(coll2, len(coll2)))"
   ]
  },
  {
   "attachments": {},
   "cell_type": "markdown",
   "metadata": {},
   "source": [
    "74. WAP to check whethee both given values point to the same memory location or not. If it is ture print the middle item of the second collection, or else, if it is false print the first item and last item of the first collection along with the memory address."
   ]
  },
  {
   "cell_type": "code",
   "execution_count": null,
   "metadata": {},
   "outputs": [],
   "source": [
    "val1 = eval(input())\n",
    "val2 = eval(input())\n",
    "if val1 is val2:\n",
    "    print(val2[len(val2//2)])\n",
    "else:\n",
    "    print(\"First item of value 1 is {} and last itam if {}\".format(val1[0],val2[-1]))"
   ]
  },
  {
   "attachments": {},
   "cell_type": "markdown",
   "metadata": {},
   "source": [
    "75. WAP to check whether a given string collection is more than ten, and the first  + last character of the ascii values should be divisible by 5, if condition is satisfied print first, middle, and last characters ascii values or else print the string three times."
   ]
  },
  {
   "cell_type": "code",
   "execution_count": null,
   "metadata": {},
   "outputs": [],
   "source": [
    "strr = input()\n",
    "if len(strr)>10 and (ord(strr[0]) + ord(strr[-1]))%5==0:\n",
    "    print(\"First {} \\n Middle {} \\n Last {}\".format(ord(strr[0]), ord(strr[len(strr)//2]), ord(strr[-1])))"
   ]
  },
  {
   "attachments": {},
   "cell_type": "markdown",
   "metadata": {},
   "source": [
    "76. WAP to check whether the middle of the item present in the list is string data type or not if it is string print that list or else if it is not string then print that middle item."
   ]
  },
  {
   "cell_type": "code",
   "execution_count": null,
   "metadata": {},
   "outputs": [],
   "source": [
    "listt = eval(input())\n",
    "if type(listt[len(listt)//2]) == str:\n",
    "    print(listt)\n",
    "else:\n",
    "    print(listt[len(listt)//2])"
   ]
  }
 ],
 "metadata": {
  "kernelspec": {
   "display_name": "Python 3",
   "language": "python",
   "name": "python3"
  },
  "language_info": {
   "codemirror_mode": {
    "name": "ipython",
    "version": 3
   },
   "file_extension": ".py",
   "mimetype": "text/x-python",
   "name": "python",
   "nbconvert_exporter": "python",
   "pygments_lexer": "ipython3",
   "version": "3.10.6"
  },
  "orig_nbformat": 4
 },
 "nbformat": 4,
 "nbformat_minor": 2
}
