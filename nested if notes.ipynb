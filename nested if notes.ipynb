{
 "cells": [
  {
   "attachments": {},
   "cell_type": "markdown",
   "metadata": {},
   "source": [
    "Nested statement: Statements inside one statement is called nested statement.\n",
    "Nested if: When a if statement is inside another if statement then it is called nested if statement.\n",
    "Nested if ststement can be written inside either if statement or else statement or elif statement."
   ]
  },
  {
   "attachments": {},
   "cell_type": "markdown",
   "metadata": {},
   "source": [
    "Q1. WAP to check whether given value is +ve. If it is positive, check whether it is even or not, if it is even check whether given value is divisible by 7 or not.\n",
    "If it is divisible perform bitwise NOT operation. If given value is odd, extract 1st and last digit. If given value is -ve convert it into +ve. If it is neutral, display your name."
   ]
  },
  {
   "cell_type": "code",
   "execution_count": 3,
   "metadata": {},
   "outputs": [
    {
     "name": "stdout",
     "output_type": "stream",
     "text": [
      "7 7\n",
      "77\n"
     ]
    }
   ],
   "source": [
    "n = eval(input())\n",
    "if n>0:\n",
    "    if n % 2==0:\n",
    "        if n%7==0:\n",
    "            res = ~n\n",
    "            print(res)\n",
    "    else:\n",
    "        s = str(n)\n",
    "        res = int(s[0] + s[-1])\n",
    "        print(res)\n",
    "elif n<0:\n",
    "    res = -(n)\n",
    "    print(res)\n",
    "else:\n",
    "    res = \"Sunny\"\n",
    "    print(res)"
   ]
  }
 ],
 "metadata": {
  "kernelspec": {
   "display_name": "Python 3",
   "language": "python",
   "name": "python3"
  },
  "language_info": {
   "codemirror_mode": {
    "name": "ipython",
    "version": 3
   },
   "file_extension": ".py",
   "mimetype": "text/x-python",
   "name": "python",
   "nbconvert_exporter": "python",
   "pygments_lexer": "ipython3",
   "version": "3.11.4"
  },
  "orig_nbformat": 4
 },
 "nbformat": 4,
 "nbformat_minor": 2
}
