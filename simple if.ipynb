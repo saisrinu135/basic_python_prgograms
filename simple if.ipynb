{
 "cells": [
  {
   "attachments": {},
   "cell_type": "markdown",
   "metadata": {},
   "source": [
    "1. WAP to check whether given number is positive or negative and print a message  "
   ]
  },
  {
   "cell_type": "code",
   "execution_count": 1,
   "metadata": {},
   "outputs": [],
   "source": [
    "n = int(input())\n",
    "if n%2==0:\n",
    "    print(\"Given number is positive\")"
   ]
  },
  {
   "attachments": {},
   "cell_type": "markdown",
   "metadata": {},
   "source": [
    "2. WAP to display hello world if the number is greater than 1 and lessthan 5"
   ]
  },
  {
   "cell_type": "code",
   "execution_count": 2,
   "metadata": {},
   "outputs": [
    {
     "name": "stdout",
     "output_type": "stream",
     "text": [
      "Hello world\n"
     ]
    }
   ],
   "source": [
    "n = int(input())\n",
    "if n>1 and n<5:\n",
    "    print(\"Hello world\")"
   ]
  },
  {
   "attachments": {},
   "cell_type": "markdown",
   "metadata": {},
   "source": [
    "3. WAP to check whether given number is divisible by 3 or not. If yes print fizz"
   ]
  },
  {
   "cell_type": "code",
   "execution_count": null,
   "metadata": {},
   "outputs": [],
   "source": [
    "n = int(input())\n",
    "if n%3==0:\n",
    "    print(\"fizz\")"
   ]
  },
  {
   "attachments": {},
   "cell_type": "markdown",
   "metadata": {},
   "source": [
    "4. WAP to check whether given input is divisible by 2 and 6. If condition is true, convert the given number to a complex number."
   ]
  },
  {
   "cell_type": "code",
   "execution_count": 3,
   "metadata": {},
   "outputs": [
    {
     "name": "stdout",
     "output_type": "stream",
     "text": [
      "(6+0j)\n"
     ]
    }
   ],
   "source": [
    "n = int(input())\n",
    "if n%2==0 and n%6==0:\n",
    "    print(complex(n))"
   ]
  },
  {
   "attachments": {},
   "cell_type": "markdown",
   "metadata": {},
   "source": [
    "5. WAP to check the given input is divisible by 3 or 5. If condition is satisfied the number is converter to a list. i/p = 30 and o/p = ['3','0']"
   ]
  },
  {
   "cell_type": "code",
   "execution_count": 5,
   "metadata": {},
   "outputs": [
    {
     "name": "stdout",
     "output_type": "stream",
     "text": [
      "['2', '5']\n"
     ]
    }
   ],
   "source": [
    "n = int(input())\n",
    "if n%3 ==0 or n%5==0:\n",
    "    print(list(str(n)))"
   ]
  },
  {
   "attachments": {},
   "cell_type": "markdown",
   "metadata": {},
   "source": [
    "6. WAP to check the given number is multiple of 5 or not"
   ]
  },
  {
   "cell_type": "code",
   "execution_count": 6,
   "metadata": {},
   "outputs": [
    {
     "name": "stdout",
     "output_type": "stream",
     "text": [
      "35 is multiple of 5\n"
     ]
    }
   ],
   "source": [
    "n = int(input())\n",
    "if n%5==0:\n",
    "    print(n, \"is multiple of 5\")"
   ]
  },
  {
   "attachments": {},
   "cell_type": "markdown",
   "metadata": {},
   "source": [
    "7. WAP to check whether the given input is 0 or not. If 0 print 0"
   ]
  },
  {
   "cell_type": "code",
   "execution_count": null,
   "metadata": {},
   "outputs": [],
   "source": [
    "n = int(input())\n",
    "if n==0:\n",
    "    print(\"0\")"
   ]
  },
  {
   "attachments": {},
   "cell_type": "markdown",
   "metadata": {},
   "source": [
    "8. WAP to check whether a number is negative. If negative, print a message negative."
   ]
  },
  {
   "cell_type": "code",
   "execution_count": null,
   "metadata": {},
   "outputs": [],
   "source": [
    "n = int(input())\n",
    "if n<0:\n",
    "    print('Negative')"
   ]
  },
  {
   "attachments": {},
   "cell_type": "markdown",
   "metadata": {},
   "source": [
    "9. WAP to check whether the given number is even or not. If even store the value inside the list."
   ]
  },
  {
   "cell_type": "code",
   "execution_count": 2,
   "metadata": {},
   "outputs": [
    {
     "name": "stdout",
     "output_type": "stream",
     "text": [
      "[56]\n"
     ]
    }
   ],
   "source": [
    "n = int(input())\n",
    "list = []\n",
    "if n%2==0:\n",
    "    list+=[n]\n",
    "    print(list)"
   ]
  },
  {
   "attachments": {},
   "cell_type": "markdown",
   "metadata": {},
   "source": [
    "10. WAP to check whether the given number is odd. If odd, store the given number in tuple."
   ]
  },
  {
   "cell_type": "code",
   "execution_count": 5,
   "metadata": {},
   "outputs": [
    {
     "name": "stdout",
     "output_type": "stream",
     "text": [
      "(5,)\n"
     ]
    }
   ],
   "source": [
    "n = int(input())\n",
    "tuple = ()\n",
    "if n %2!=0:\n",
    "    tuple+=(n,)\n",
    "    print(tuple)"
   ]
  },
  {
   "attachments": {},
   "cell_type": "markdown",
   "metadata": {},
   "source": [
    "11. WAP to check whether a given value is divisible by 5 and 7. If the value is divisible, display the square of the values."
   ]
  },
  {
   "cell_type": "code",
   "execution_count": 6,
   "metadata": {},
   "outputs": [
    {
     "name": "stdout",
     "output_type": "stream",
     "text": [
      "1225\n"
     ]
    }
   ],
   "source": [
    "n = int(input())\n",
    "if n %5==0 and n %7==0:\n",
    "    print(n**2)"
   ]
  },
  {
   "attachments": {},
   "cell_type": "markdown",
   "metadata": {},
   "source": [
    "12. WAP to check whether the given values last digit is greater than 5 or not. If greater, perform the bitwise right shift operator (skipping value is 2)"
   ]
  },
  {
   "cell_type": "code",
   "execution_count": 10,
   "metadata": {},
   "outputs": [
    {
     "name": "stdout",
     "output_type": "stream",
     "text": [
      "11\n"
     ]
    }
   ],
   "source": [
    "n = int(input())\n",
    "if (n%10)>5:\n",
    "    print(n>>2)"
   ]
  },
  {
   "attachments": {},
   "cell_type": "markdown",
   "metadata": {},
   "source": [
    "13. WAP to check whether a given value is divisible by 3 and less than 30. If the value is divisible, to display the square of the number"
   ]
  },
  {
   "cell_type": "code",
   "execution_count": null,
   "metadata": {},
   "outputs": [],
   "source": [
    "n = int(input())\n",
    "if n%3 ==0 and n<30:\n",
    "    print(n**2)"
   ]
  },
  {
   "attachments": {},
   "cell_type": "markdown",
   "metadata": {},
   "source": [
    "14. WAP to check whether a given value is an even number and divisible by 4. If satisfied, display the cube of the number."
   ]
  },
  {
   "cell_type": "code",
   "execution_count": null,
   "metadata": {},
   "outputs": [],
   "source": [
    "n = int(input())\n",
    "if n %2==0 and n%4==0:\n",
    "    print(n**3)"
   ]
  },
  {
   "attachments": {},
   "cell_type": "markdown",
   "metadata": {},
   "source": [
    "15. WAP to check whether given value is negative or even number. If satisfied, display the last digit of the value."
   ]
  },
  {
   "cell_type": "code",
   "execution_count": null,
   "metadata": {},
   "outputs": [],
   "source": [
    "n = int(input())\n",
    "if n <0 or n %2==0:\n",
    "    print(n%10)"
   ]
  },
  {
   "attachments": {},
   "cell_type": "markdown",
   "metadata": {},
   "source": [
    "16. WAP to check whether a given value is even or not. If even, store the value in a list."
   ]
  },
  {
   "cell_type": "code",
   "execution_count": 2,
   "metadata": {},
   "outputs": [
    {
     "name": "stdout",
     "output_type": "stream",
     "text": [
      "[4]\n"
     ]
    }
   ],
   "source": [
    "n = int(input())\n",
    "list = []\n",
    "if n % 2 ==0:\n",
    "    list+=[n]\n",
    "    print(list)"
   ]
  },
  {
   "attachments": {},
   "cell_type": "markdown",
   "metadata": {},
   "source": [
    "17. WAP to check whether a given value is negative or odd number and devisible by 4. If satisfied, display the cube of the value."
   ]
  },
  {
   "cell_type": "code",
   "execution_count": null,
   "metadata": {},
   "outputs": [],
   "source": [
    "n = int(input())\n",
    "if (n < 0 or n %2!=0) and (n%4==0):\n",
    "    print(n**3)"
   ]
  },
  {
   "attachments": {},
   "cell_type": "markdown",
   "metadata": {},
   "source": [
    "18. WAP to check whether the given ascii value is divisible by 4 and even value. If satisfies, display the character."
   ]
  },
  {
   "cell_type": "code",
   "execution_count": 14,
   "metadata": {},
   "outputs": [
    {
     "name": "stdout",
     "output_type": "stream",
     "text": [
      "@\n"
     ]
    }
   ],
   "source": [
    "n = int(input())\n",
    "if 0<=n<=255 and n%4==0:\n",
    "    print(chr(n))"
   ]
  },
  {
   "attachments": {},
   "cell_type": "markdown",
   "metadata": {},
   "source": [
    "19. WAP to check whether a given value is present in between 45 and 125 and the number should be divisible by 4 and 5. If satisfied, display the ascii character."
   ]
  },
  {
   "cell_type": "code",
   "execution_count": null,
   "metadata": {},
   "outputs": [],
   "source": [
    "n = int(input())\n",
    "if 45<n<125 and n %4==0 and n%5==0:\n",
    "    print(chr(n))"
   ]
  },
  {
   "attachments": {},
   "cell_type": "markdown",
   "metadata": {},
   "source": [
    "20. WAP to check whether a givnen value is present in between 25 and 100 and the number should be divisible by 4 and 5. If satisfed, display the multiplication of given value with 5."
   ]
  },
  {
   "cell_type": "code",
   "execution_count": null,
   "metadata": {},
   "outputs": [],
   "source": [
    "n = int(input())\n",
    "if 25<n<100 and n%4==0 and n%5==0:\n",
    "    print(n*5)"
   ]
  },
  {
   "attachments": {},
   "cell_type": "markdown",
   "metadata": {},
   "source": [
    "21. WAP to check whether a given number is a integer and odd number. If condition is satisfied, the integer is divisible by 5 and display the result."
   ]
  },
  {
   "cell_type": "code",
   "execution_count": null,
   "metadata": {},
   "outputs": [],
   "source": [
    "n = int(input())\n",
    "if type(n)==int and n%2!=0:\n",
    "    print(n/5)"
   ]
  },
  {
   "attachments": {},
   "cell_type": "markdown",
   "metadata": {},
   "source": [
    "22. WAP to check whether the given value is an integer or not. If integer, the given value is converter in to string and display the result."
   ]
  },
  {
   "cell_type": "code",
   "execution_count": null,
   "metadata": {},
   "outputs": [],
   "source": [
    "n = int(input())\n",
    "if type(n) == int:\n",
    "    print(str(n))"
   ]
  },
  {
   "attachments": {},
   "cell_type": "markdown",
   "metadata": {},
   "source": [
    "23. WAP to check whether the given value is lesss than 124 and greater then 60 or not. If the condition is satisfied, take the name and extract the middle character and display it."
   ]
  },
  {
   "cell_type": "code",
   "execution_count": null,
   "metadata": {},
   "outputs": [
    {
     "name": "stdout",
     "output_type": "stream",
     "text": [
      "a\n"
     ]
    }
   ],
   "source": [
    "n = int(input())\n",
    "name = \"sai\"\n",
    "if n>60 and n<124:\n",
    "    print(name[len(name)//2])\n"
   ]
  },
  {
   "attachments": {},
   "cell_type": "markdown",
   "metadata": {},
   "source": [
    "24. WAP to check whether the given two integres are equal or not. If both are equal, perform addition and dislay the result."
   ]
  },
  {
   "cell_type": "code",
   "execution_count": 2,
   "metadata": {},
   "outputs": [
    {
     "ename": "ValueError",
     "evalue": "invalid literal for int() with base 10: 'A'",
     "output_type": "error",
     "traceback": [
      "\u001b[1;31m---------------------------------------------------------------------------\u001b[0m",
      "\u001b[1;31mValueError\u001b[0m                                Traceback (most recent call last)",
      "Cell \u001b[1;32mIn[2], line 2\u001b[0m\n\u001b[0;32m      1\u001b[0m n \u001b[39m=\u001b[39m \u001b[39mint\u001b[39m(\u001b[39minput\u001b[39m())\n\u001b[1;32m----> 2\u001b[0m m \u001b[39m=\u001b[39m \u001b[39mint\u001b[39;49m(\u001b[39minput\u001b[39;49m())\n\u001b[0;32m      3\u001b[0m \u001b[39mif\u001b[39;00m n\u001b[39m==\u001b[39mm:\n\u001b[0;32m      4\u001b[0m     \u001b[39mprint\u001b[39m(n\u001b[39m+\u001b[39mm)\n",
      "\u001b[1;31mValueError\u001b[0m: invalid literal for int() with base 10: 'A'"
     ]
    }
   ],
   "source": [
    "n = int(input())\n",
    "m = int(input())\n",
    "if n==m:\n",
    "    print(n+m)"
   ]
  },
  {
   "attachments": {},
   "cell_type": "markdown",
   "metadata": {},
   "source": [
    "25. WAP to check whether two values are equal or not. If equall, perform multiplication and division by 3 and display the value."
   ]
  },
  {
   "cell_type": "code",
   "execution_count": null,
   "metadata": {},
   "outputs": [],
   "source": [
    "n = int(input())\n",
    "m = int(input())\n",
    "if n ==m:\n",
    "    print(n*3)\n",
    "    print(m/3)"
   ]
  },
  {
   "attachments": {},
   "cell_type": "markdown",
   "metadata": {},
   "source": [
    "26. WAP to check whether a character is in the alphabet or not. If it is alphabet, store the value inside a dict (key as a character and value as a ascii value)"
   ]
  },
  {
   "cell_type": "code",
   "execution_count": 18,
   "metadata": {},
   "outputs": [
    {
     "name": "stdout",
     "output_type": "stream",
     "text": [
      "{'C': 67}\n"
     ]
    }
   ],
   "source": [
    "ch = input()\n",
    "dic = {}\n",
    "if 'A'<=ch<='Z' or 'a'<=ch<='z':\n",
    "    dic[ch] = ord(ch)\n",
    "    print(dic)"
   ]
  },
  {
   "attachments": {},
   "cell_type": "markdown",
   "metadata": {},
   "source": [
    "27. WAP to check whether the given character is uppercase or not. If uppercase, store the value inside the dictionary (key as a character and value as a ascii value)"
   ]
  },
  {
   "cell_type": "code",
   "execution_count": null,
   "metadata": {},
   "outputs": [],
   "source": [
    "ch = input()\n",
    "dic = {}\n",
    "if 'A'<=ch<='Z':\n",
    "    dic[ch] = ord(ch)\n",
    "    print(dic)"
   ]
  },
  {
   "attachments": {},
   "cell_type": "markdown",
   "metadata": {},
   "source": [
    "28. WAP to check whether a character is in uppercase or not. If uppercase, convert to lower case and store the value inside the dictionary (character as key and ascii as value)"
   ]
  },
  {
   "cell_type": "code",
   "execution_count": 20,
   "metadata": {},
   "outputs": [
    {
     "name": "stdout",
     "output_type": "stream",
     "text": [
      "{'d': 100}\n"
     ]
    }
   ],
   "source": [
    "ch = input()\n",
    "dic = {}\n",
    "if 'A'<=ch<='Z':\n",
    "    ch = chr(ord(ch)+32)\n",
    "    dic[ch] = ord(ch)\n",
    "    print(dic)"
   ]
  },
  {
   "attachments": {},
   "cell_type": "markdown",
   "metadata": {},
   "source": [
    "29. WAP to check whether a character is in the lowercase or not. If the lowercase, perform the replication operation on that character."
   ]
  },
  {
   "cell_type": "code",
   "execution_count": 21,
   "metadata": {},
   "outputs": [
    {
     "name": "stdout",
     "output_type": "stream",
     "text": [
      "ddddd\n"
     ]
    }
   ],
   "source": [
    "ch = input()\n",
    "if 'a'<=ch<='z':\n",
    "    print(ch*5)"
   ]
  },
  {
   "attachments": {},
   "cell_type": "markdown",
   "metadata": {},
   "source": [
    "30. WAP to check whether a character is in the ascii number or not. If the ascii number, to convert in to integer."
   ]
  },
  {
   "cell_type": "code",
   "execution_count": null,
   "metadata": {},
   "outputs": [],
   "source": []
  },
  {
   "attachments": {},
   "cell_type": "markdown",
   "metadata": {},
   "source": [
    "31. WAP to check whether the given character is in the special symbol or not. If special symbol, to display a symbol with ascii value."
   ]
  },
  {
   "cell_type": "markdown",
   "metadata": {},
   "source": []
  },
  {
   "attachments": {},
   "cell_type": "markdown",
   "metadata": {},
   "source": [
    "32. WAP to check whether a character is an even number or not. If the even number, to display an even number."
   ]
  },
  {
   "cell_type": "code",
   "execution_count": null,
   "metadata": {},
   "outputs": [],
   "source": []
  },
  {
   "attachments": {},
   "cell_type": "markdown",
   "metadata": {},
   "source": [
    "33. WAP to check whether a character is in the not a vowel. If its not a vowel, print the previous character."
   ]
  },
  {
   "cell_type": "code",
   "execution_count": 5,
   "metadata": {},
   "outputs": [
    {
     "name": "stdout",
     "output_type": "stream",
     "text": [
      "105\n",
      "i\n"
     ]
    }
   ],
   "source": [
    "ch = input()\n",
    "if ch not in 'AEIOUaeiou':\n",
    "    ch = ord(ch)\n",
    "    ch=ch+1\n",
    "    print(ch)\n",
    "    print(chr(ch))"
   ]
  },
  {
   "attachments": {},
   "cell_type": "markdown",
   "metadata": {},
   "source": [
    "34. WAP to check whether a character is in the not a vowel. If its not a vowel, print the previous character"
   ]
  },
  {
   "cell_type": "code",
   "execution_count": 30,
   "metadata": {},
   "outputs": [
    {
     "name": "stdout",
     "output_type": "stream",
     "text": [
      "f\n"
     ]
    }
   ],
   "source": [
    "ch = input()\n",
    "if ch not in 'AEIOUaeiou':\n",
    "    print(chr(ord(ch)-1))"
   ]
  },
  {
   "attachments": {},
   "cell_type": "markdown",
   "metadata": {},
   "source": [
    "35. WAP to check whether a given value is single value data type or not. If single value, display the given value a a single value data type."
   ]
  },
  {
   "cell_type": "code",
   "execution_count": 31,
   "metadata": {},
   "outputs": [
    {
     "name": "stdout",
     "output_type": "stream",
     "text": [
      "5 is single value datatype\n"
     ]
    }
   ],
   "source": [
    "data = eval(input())\n",
    "if type(data) in (int, float, bool, complex, type(None)):\n",
    "    print(data, \"is single value datatype\")"
   ]
  },
  {
   "attachments": {},
   "cell_type": "markdown",
   "metadata": {},
   "source": [
    "36. WAP to check whether a given is multivalue data type or not. If multivalue, store the given value inside the tuple and display it."
   ]
  },
  {
   "cell_type": "code",
   "execution_count": 41,
   "metadata": {},
   "outputs": [
    {
     "name": "stdout",
     "output_type": "stream",
     "text": [
      "([1, 2, 3],)\n"
     ]
    }
   ],
   "source": [
    "data = eval(input())\n",
    "t = tuple()\n",
    "if type(data) in (type(list), type(tuple), set, dict, str):\n",
    "    t = t+ (data,)\n",
    "    print(t)"
   ]
  },
  {
   "attachments": {},
   "cell_type": "markdown",
   "metadata": {},
   "source": [
    "37. WAP to check whether a given value is an immutable data type or not. If an immutable, store the value inside the set and display it."
   ]
  },
  {
   "cell_type": "code",
   "execution_count": 43,
   "metadata": {},
   "outputs": [
    {
     "name": "stdout",
     "output_type": "stream",
     "text": [
      "{'sai'}\n"
     ]
    }
   ],
   "source": [
    "data = eval(input())\n",
    "sett = set()\n",
    "if type(data) not in (type(list), set, dict):\n",
    "    sett = sett| {data}\n",
    "    print(sett)"
   ]
  },
  {
   "attachments": {},
   "cell_type": "markdown",
   "metadata": {},
   "source": [
    "38. WAP to check whether the middle element of a given list is odd or not. If it is odd, then print odd then print the nummber else directly print the number."
   ]
  },
  {
   "cell_type": "code",
   "execution_count": 46,
   "metadata": {},
   "outputs": [
    {
     "name": "stdout",
     "output_type": "stream",
     "text": [
      "Odd: 8\n"
     ]
    }
   ],
   "source": [
    "lis = [1,4,5,7,2,8,10,35,65,78]\n",
    "if (len(list)//2) %2!=0:\n",
    "    print(\"Odd:\", lis[len(list)//2])"
   ]
  },
  {
   "attachments": {},
   "cell_type": "markdown",
   "metadata": {},
   "source": [
    "39. WAP to check whether two variables are pointing to the same location or not. If they are pointing to the same location then print the address of both the variables."
   ]
  },
  {
   "cell_type": "code",
   "execution_count": 47,
   "metadata": {},
   "outputs": [
    {
     "name": "stdout",
     "output_type": "stream",
     "text": [
      "2940767502704\n",
      "2940767502704\n"
     ]
    }
   ],
   "source": [
    "a = eval(input())\n",
    "b = eval(input())\n",
    "if a is b:\n",
    "    print(id(a))\n",
    "    print(id(b))"
   ]
  },
  {
   "attachments": {},
   "cell_type": "markdown",
   "metadata": {},
   "source": [
    "40. WAP to check whether the given length of the string is evn or not. If the condition is satisfied, display the sequence of characters from zero position to length of collection -2"
   ]
  },
  {
   "cell_type": "code",
   "execution_count": 48,
   "metadata": {},
   "outputs": [
    {
     "name": "stdout",
     "output_type": "stream",
     "text": [
      "saisri\n"
     ]
    }
   ],
   "source": [
    "string = eval(input())\n",
    "if (len(string)%2==0):\n",
    "    print(string[:len(string)-2])"
   ]
  },
  {
   "attachments": {},
   "cell_type": "markdown",
   "metadata": {},
   "source": [
    "41. WAp to check whether the two given string are having the same values or not. If both are having same values, then swap the values of one variable to another and then print the values."
   ]
  },
  {
   "cell_type": "code",
   "execution_count": 50,
   "metadata": {},
   "outputs": [
    {
     "name": "stdout",
     "output_type": "stream",
     "text": [
      "sai\n",
      "sai\n"
     ]
    }
   ],
   "source": [
    "str1 = eval(input())\n",
    "str2 = eval(input())\n",
    "if str1 == str2:\n",
    "    str1, str2 = str2, str1\n",
    "    print(str1)\n",
    "    print(str2)"
   ]
  },
  {
   "attachments": {},
   "cell_type": "markdown",
   "metadata": {},
   "source": [
    "42. WAp to check whether a given character is a special symbol or not. If satisfied, store the symbol as a key and value as a ascii value of the same given character inside the dictionary."
   ]
  },
  {
   "cell_type": "code",
   "execution_count": null,
   "metadata": {},
   "outputs": [],
   "source": [
    "ch = eval(input())\n",
    "dic = {}\n",
    "if ch not in ('A'<=ch<='B' or 'a'<=ch<='z' or 0<=ch<=9):\n",
    "    dic[ch] = ord(ch)"
   ]
  }
 ],
 "metadata": {
  "kernelspec": {
   "display_name": "Python 3",
   "language": "python",
   "name": "python3"
  },
  "language_info": {
   "codemirror_mode": {
    "name": "ipython",
    "version": 3
   },
   "file_extension": ".py",
   "mimetype": "text/x-python",
   "name": "python",
   "nbconvert_exporter": "python",
   "pygments_lexer": "ipython3",
   "version": "3.10.6"
  },
  "orig_nbformat": 4
 },
 "nbformat": 4,
 "nbformat_minor": 2
}
