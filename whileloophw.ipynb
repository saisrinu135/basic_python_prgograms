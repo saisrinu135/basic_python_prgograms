{
 "cells": [
  {
   "cell_type": "code",
   "execution_count": null,
   "metadata": {},
   "outputs": [],
   "source": [
    "#WAP to conevert uppercase to lowercase and viceversa\n",
    "\n",
    "st = \"HelLOWoRLD\"\n",
    "start = 0\n",
    "end = len(st)\n",
    "\n",
    "while start<end:\n",
    "    if \"A\"<=st[start]<=\"Z\":\n",
    "        st = st[:start] + chr(ord(st[start])+32) + st[start+1 :]\n",
    "    elif \"a\" <= st[start] <= \"z\":\n",
    "        st = st[:start] + str(chr(ord(st[start])-32)) + st[start+1:]\n",
    "    start+=1\n",
    "print(st)"
   ]
  },
  {
   "cell_type": "code",
   "execution_count": null,
   "metadata": {},
   "outputs": [],
   "source": [
    "#highest occurance character in given string.\n",
    "\n",
    "st = \"HELLOWORLD\"\n",
    "d = {}\n",
    "start = 0\n",
    "end = len(st)\n",
    "\n",
    "while start<end:\n",
    "    if st[start] not in d:\n",
    "        d[st[start]] = 1\n",
    "    else:\n",
    "        d[st[start]]+=1\n",
    "    start+=1\n",
    "print(d)\n",
    "\n",
    "values = list(d.values())\n",
    "max_value = 0\n",
    "stt = 0\n",
    "key = ''\n",
    "keys = list(d)\n",
    "endd = len(values)\n",
    "\n",
    "while stt<endd:\n",
    "\n",
    "    if values[stt]>max_value:\n",
    "        max_value = values[stt] \n",
    "\n",
    "    if max_value == d[keys[stt]]:\n",
    "        key = keys[stt]\n",
    "    stt+=1\n",
    "print(key, max_value)"
   ]
  },
  {
   "cell_type": "code",
   "execution_count": null,
   "metadata": {},
   "outputs": [],
   "source": [
    "#WAP to to convert uppercase to lowercase only for even index characters from given characters\n",
    "\n",
    "def EvenLower(st):\n",
    "    res = \"\"\n",
    "    start = 0\n",
    "    while start<len(st):\n",
    "        if start%2==0:\n",
    "            if 'A' <= st[start] <= 'Z':\n",
    "                res+=chr(ord(st[start])+32)\n",
    "            else:\n",
    "                res+=st[start]\n",
    "        else:\n",
    "            res+=st[start]\n",
    "        start+=1\n",
    "    return res\n",
    "\n",
    "st = \"HELLOWORLD\"\n",
    "print(EvenLower(st))"
   ]
  },
  {
   "cell_type": "code",
   "execution_count": null,
   "metadata": {},
   "outputs": [],
   "source": [
    "#WAP to to convert uppercase to lowercase only for even index characters from given characters\n",
    "\n",
    "def Even_Lower(st):\n",
    "    res = \"\"\n",
    "    start = 0\n",
    "    while start<len(st):\n",
    "        if start%2==0 and 'A' <= st[start] <= 'Z':\n",
    "                res+=chr(ord(st[start])+32)\n",
    "        else:\n",
    "            res+=st[start]\n",
    "        start+=1\n",
    "    return res\n",
    "\n",
    "st = \"HELLOWORLD\"\n",
    "print(Even_Lower(st))"
   ]
  },
  {
   "cell_type": "code",
   "execution_count": null,
   "metadata": {},
   "outputs": [],
   "source": [
    "#Design a function to convert uppercase to lowercase only for vowels characters from given string\n",
    "\n",
    "def Vowel_Lower(coll):\n",
    "    res = \"\"\n",
    "    start = 0\n",
    "    while start<len(coll):\n",
    "        if coll[start] in \"AEIOU\":\n",
    "            res+=chr(ord(coll[start])+32)\n",
    "        else:\n",
    "            res+=coll[start]\n",
    "        start+=1\n",
    "    return res\n",
    "\n",
    "temp = Vowel_Lower(input())\n",
    "print(temp)"
   ]
  }
 ],
 "metadata": {
  "kernelspec": {
   "display_name": "Python 3",
   "language": "python",
   "name": "python3"
  },
  "language_info": {
   "codemirror_mode": {
    "name": "ipython",
    "version": 3
   },
   "file_extension": ".py",
   "mimetype": "text/x-python",
   "name": "python",
   "nbconvert_exporter": "python",
   "pygments_lexer": "ipython3",
   "version": "3.11.3"
  },
  "orig_nbformat": 4
 },
 "nbformat": 4,
 "nbformat_minor": 2
}
