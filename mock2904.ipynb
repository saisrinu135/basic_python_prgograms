{
 "cells": [
  {
   "cell_type": "code",
   "execution_count": 2,
   "metadata": {},
   "outputs": [
    {
     "name": "stdout",
     "output_type": "stream",
     "text": [
      " saisrinu\n"
     ]
    }
   ],
   "source": [
    "#1. wap to convert uppercase charatcers into lowercase characters\n",
    "\n",
    "in_str = input()\n",
    "i = 0 \n",
    "res = \"\"\n",
    "\n",
    "while i<len(in_str):\n",
    "    if 'A' <= in_str[i] <= 'Z':\n",
    "        res+=chr(ord(in_str[i])+32)\n",
    "    else:\n",
    "        res+=in_str[i]\n",
    "    i+=1\n",
    "print(res)"
   ]
  },
  {
   "cell_type": "code",
   "execution_count": 7,
   "metadata": {},
   "outputs": [
    {
     "name": "stdout",
     "output_type": "stream",
     "text": [
      "False\n"
     ]
    }
   ],
   "source": [
    "#2. WAP to check the given string is alphanumeric or not.\n",
    "def alphanumeric(in_str):\n",
    "    i = 0\n",
    "\n",
    "    while i<len(in_str):\n",
    "        if not ('A' <=in_str[i]<='Z' or 'a'<=in_str[i]<='z' or '0'<=in_str[i]<='9'):\n",
    "            return False\n",
    "        i+=1\n",
    "    return True\n",
    "\n",
    "print(alphanumeric(input()))\n"
   ]
  },
  {
   "cell_type": "code",
   "execution_count": 12,
   "metadata": {},
   "outputs": [
    {
     "name": "stdout",
     "output_type": "stream",
     "text": [
      "3\n"
     ]
    }
   ],
   "source": [
    "#3. WAP to count the number of special characters.\n",
    "\n",
    "def special_count(coll):\n",
    "    i = 0\n",
    "    count = 0\n",
    "    while i<len(coll):\n",
    "        if not ('A' <=coll[i]<='Z' or 'a'<=coll[i]<='z' or '0'<=coll[i]<='9'):\n",
    "            count+=1\n",
    "        i+=1\n",
    "    return count\n",
    "\n",
    "print(special_count('sai,i@#dios8'))"
   ]
  }
 ],
 "metadata": {
  "kernelspec": {
   "display_name": "Python 3",
   "language": "python",
   "name": "python3"
  },
  "language_info": {
   "codemirror_mode": {
    "name": "ipython",
    "version": 3
   },
   "file_extension": ".py",
   "mimetype": "text/x-python",
   "name": "python",
   "nbconvert_exporter": "python",
   "pygments_lexer": "ipython3",
   "version": "3.11.3"
  },
  "orig_nbformat": 4
 },
 "nbformat": 4,
 "nbformat_minor": 2
}
