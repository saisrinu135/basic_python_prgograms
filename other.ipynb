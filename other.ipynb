{
 "cells": [
  {
   "cell_type": "code",
   "execution_count": 21,
   "metadata": {},
   "outputs": [
    {
     "name": "stdout",
     "output_type": "stream",
     "text": [
      "6 12 18 "
     ]
    }
   ],
   "source": [
    "n = int(input())\n",
    "m = int(input())\n",
    "count = 0\n",
    "for i in range(n, m+1):\n",
    "    if i%6==0:\n",
    "        print(i, end = ' ')\n",
    "        count+=1\n",
    "if count ==0:\n",
    "    print('No factors found')\n"
   ]
  },
  {
   "cell_type": "code",
   "execution_count": 11,
   "metadata": {},
   "outputs": [
    {
     "name": "stdout",
     "output_type": "stream",
     "text": [
      "8638\n"
     ]
    }
   ],
   "source": [
    "#Code repeat addition\n",
    "#i/p 2, 4\n",
    "#o/p 2+22+222+2222 = 2468\n",
    "\n",
    "num = int(input())\n",
    "repeat = int(input())\n",
    "sum = 0\n",
    "start = 1\n",
    "while start<=repeat:\n",
    "    sum+= int(str(num)*start)\n",
    "    start+=1\n",
    "print(sum)"
   ]
  },
  {
   "cell_type": "code",
   "execution_count": 5,
   "metadata": {},
   "outputs": [
    {
     "name": "stdout",
     "output_type": "stream",
     "text": [
      "8638\n"
     ]
    }
   ],
   "source": [
    "num = int(input())\n",
    "repeat = int(input())\n",
    "sum = 0\n",
    "for i in range(1,repeat+1):\n",
    "    sum += int(str(num)*i)\n",
    "print(sum)"
   ]
  },
  {
   "cell_type": "code",
   "execution_count": 1,
   "metadata": {},
   "outputs": [
    {
     "name": "stdout",
     "output_type": "stream",
     "text": [
      "[4, 16, 64, 256, 1024, 4096]\n",
      "-3276\n"
     ]
    }
   ],
   "source": [
    "m = int(input())\n",
    "n = int(input())\n",
    "sum1 = 0\n",
    "res = []\n",
    "for i in range(2,2*n+1):\n",
    "    if i%2==0:\n",
    "        res+= [m**i]\n",
    "for i in range(len(res)):\n",
    "    if i%2==0:\n",
    "        sum1+=res[i]\n",
    "    else:\n",
    "        sum1-=res[i]\n",
    "\n",
    "print(res)\n",
    "print(sum1)"
   ]
  }
 ],
 "metadata": {
  "kernelspec": {
   "display_name": "Python 3",
   "language": "python",
   "name": "python3"
  },
  "language_info": {
   "codemirror_mode": {
    "name": "ipython",
    "version": 3
   },
   "file_extension": ".py",
   "mimetype": "text/x-python",
   "name": "python",
   "nbconvert_exporter": "python",
   "pygments_lexer": "ipython3",
   "version": "3.11.3"
  },
  "orig_nbformat": 4
 },
 "nbformat": 4,
 "nbformat_minor": 2
}
