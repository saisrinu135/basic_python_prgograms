{
 "cells": [
  {
   "cell_type": "code",
   "execution_count": 3,
   "metadata": {},
   "outputs": [
    {
     "name": "stdout",
     "output_type": "stream",
     "text": [
      "{}\n",
      "{}\n"
     ]
    }
   ],
   "source": [
    "#clear()\n",
    "\n",
    "#predefined function\n",
    "#this will not accept any arguments\n",
    "#It will clear the all the keys and values from the dict.\n",
    "\n",
    "dic1 = {'a':1,'b':2,'c':3,'d':4}\n",
    "dic1.clear()\n",
    "print(dic1)\n",
    "\n",
    "#user defined\n",
    "\n",
    "dict1 = {'a':1,'b':2,'c':3,'d':4}\n",
    "def u_clear(coll):\n",
    "    s = list(coll)\n",
    "\n",
    "    for i in s:\n",
    "        del coll[i]\n",
    "    return coll\n",
    "\n",
    "u_clear(dict1)\n",
    "print(dict1)"
   ]
  },
  {
   "cell_type": "code",
   "execution_count": 11,
   "metadata": {},
   "outputs": [
    {
     "name": "stdout",
     "output_type": "stream",
     "text": [
      "Predefined fucntion\n",
      "{'a': 1, 'b': 2, 'c': 4} 2047514887296\n",
      "{'a': 1, 'b': 2, 'c': 4} 2047520191168\n",
      "User defined\n",
      "{'a': 1, 'b': 2, 'c': 4} 2047517055920\n",
      "{'a': 1, 'b': 2, 'c': 4} 2047514887296\n"
     ]
    }
   ],
   "source": [
    "#copy()\n",
    "#predefined fucntion\n",
    "\n",
    "dict1 = {'a':1,'b':2,'c':3,'d':4}\n",
    "print('Predefined fucntion')\n",
    "print(dict1,id(dict1))\n",
    "dict = dict1.copy()\n",
    "print(dict,id(dict))\n",
    "\n",
    "\n",
    "#user defined fucntion\n",
    "\n",
    "dict1 = {'a':1,'b':2,'c':3,'d':4}\n",
    "print('User defined')\n",
    "print(dict1,id(id(dict1)))\n",
    "def u_copy(coll ):\n",
    "    res = {}\n",
    "    for i in coll:\n",
    "        res[i] = coll[i]\n",
    "    return res\n",
    "res = u_copy(dict1)\n",
    "print(res,id(res))"
   ]
  },
  {
   "cell_type": "code",
   "execution_count": 4,
   "metadata": {},
   "outputs": [
    {
     "name": "stdout",
     "output_type": "stream",
     "text": [
      "Predefined\n",
      "1\n",
      "User defined\n",
      "None\n"
     ]
    }
   ],
   "source": [
    "#get()\n",
    "#predefined function\n",
    "#this will accept twi inputs\n",
    "#1. Key element\n",
    "#2.Defualt value to be returned\n",
    "#If key is present in the dict then the value assigned to the key is returned otherwise the default value is returned\n",
    "\n",
    "dict1 = {'a':1,'b':2,'c':3,'d':4}\n",
    "print('Predefined')\n",
    "print(dict1.get('a',5))\n",
    "\n",
    "\n",
    "def u_get(coll,key,def_val = None):\n",
    "    if key not in coll:\n",
    "        return def_val\n",
    "    else:\n",
    "        return coll[key]\n",
    "print('User defined')\n",
    "print(u_get(dict1,'e'))"
   ]
  },
  {
   "cell_type": "code",
   "execution_count": 5,
   "metadata": {},
   "outputs": [
    {
     "name": "stdout",
     "output_type": "stream",
     "text": [
      "Predefined function\n",
      "1500\n",
      "{'a': 1, 'b': 2, 'c': 3, 'd': 4, 'e': 1500}\n",
      "User defined function\n",
      "1200\n",
      "{'a': 1, 'b': 2, 'c': 3, 'd': 4, 'f': 1200}\n"
     ]
    }
   ],
   "source": [
    "#setdefault\n",
    "#predefined function\n",
    "#accepts teo arguments 1. key and 2. default value\n",
    "#if key is present in dict, returns the value assigined to the key otherwise adds the key and the value to the dict and returns the value\n",
    "\n",
    "print('Predefined function')\n",
    "dict1 = {'a':1,'b':2,'c':3,'d':4}\n",
    "print(dict1.setdefault('e',1500)) #e is not there in dict so added key and value to set\n",
    "print(dict1)\n",
    "\n",
    "print('User defined function')\n",
    "dict1 = {'a':1,'b':2,'c':3,'d':4}\n",
    "def u_setdefault(coll,key,value):\n",
    "    if key not in coll:\n",
    "        coll[key]=value\n",
    "        return value\n",
    "    else:\n",
    "        return coll[key]\n",
    "print(u_setdefault(dict1,'f',1200))\n",
    "print(dict1)"
   ]
  },
  {
   "cell_type": "code",
   "execution_count": 1,
   "metadata": {},
   "outputs": [
    {
     "name": "stdout",
     "output_type": "stream",
     "text": [
      "Predefined\n",
      "{'a': 5, 'b': 2, 'c': 3, 'd': 4}\n",
      "User defined\n",
      "{'a': 5, 'b': 2, 'c': 3, 'd': 4}\n",
      "{'a': 1, 'b': 2, 'c': 3, 'd': 4}\n"
     ]
    }
   ],
   "source": [
    "#update()\n",
    "#accepts one input argument that is new dictionary\n",
    "#it will key and value pari in the old dict from new dict.\n",
    "#it will update old value with new value if key exists in the old dict.\n",
    "print('Predefined')\n",
    "dict2 = {'a':1,'b':2,'c':3,'d':4}\n",
    "dict2.update({'a':5})\n",
    "print(dict2)\n",
    "\n",
    "\n",
    "print('User defined')\n",
    "\n",
    "def u_update(coll1,coll2):\n",
    "    if type(coll1) != dict and type(coll2) != dict:\n",
    "        return -1\n",
    "    coll1|=coll2\n",
    "\n",
    "dict2 = {'a':1,'b':2,'c':3,'d':4}\n",
    "u_update(dict2,{'a':5})\n",
    "print(dict2)\n",
    "\n",
    "\n",
    "def u_update2(coll1,coll2):\n",
    "    if type(coll1) != dict and type(coll2) != dict:\n",
    "        return -1\n",
    "    for i in coll1:\n",
    "        coll2[i] = coll1[i]\n",
    "\n",
    "dict2 = {'a':1,'b':2,'c':3,'d':4}\n",
    "u_update2(dict2,{'a':5})\n",
    "print(dict2)\n",
    "\n"
   ]
  },
  {
   "cell_type": "code",
   "execution_count": 13,
   "metadata": {},
   "outputs": [
    {
     "name": "stdout",
     "output_type": "stream",
     "text": [
      "Predefined\n",
      "1\n",
      "{'b': 2, 'c': 3, 'd': 4}\n",
      "User defined function\n",
      "1\n",
      "{'b': 2, 'c': 3, 'd': 4}\n"
     ]
    }
   ],
   "source": [
    "#pop()\n",
    "#predefined function\n",
    "#accepts one argument that is key\n",
    "#if element is present it returns value and removes from dict otherwise key error\n",
    "\n",
    "print('Predefined')\n",
    "d = {'a':1,'b':2,'c':3,'d':4}\n",
    "print(d.pop('a'))\n",
    "print(d)\n",
    "\n",
    "\n",
    "#user defined function\n",
    "def u_pop(coll,key):\n",
    "    if key not in coll:\n",
    "        return -1\n",
    "    else:\n",
    "        res = coll[key]\n",
    "        del coll[key]\n",
    "    return res\n",
    "\n",
    "print('User defined function')\n",
    "d = {'a':1,'b':2,'c':3,'d':4}\n",
    "print(u_pop(d,'a'))\n",
    "print(d)"
   ]
  },
  {
   "cell_type": "code",
   "execution_count": 23,
   "metadata": {},
   "outputs": [
    {
     "name": "stdout",
     "output_type": "stream",
     "text": [
      "('d', 4)\n",
      "{'a': 1, 'b': 2, 'c': 3}\n",
      "('d', 4)\n",
      "{'a': 1, 'b': 2, 'c': 3}\n"
     ]
    }
   ],
   "source": [
    "#popitem()\n",
    "#predefined\n",
    "#accepts no arguments\n",
    "#eleminates last key\n",
    "\n",
    "d = {'a':1,'b':2,'c':3,'d':4}\n",
    "print(d.popitem())\n",
    "print(d)\n",
    "\n",
    "#user defined\n",
    "def u_popitem(coll):\n",
    "    if len(coll)==0:\n",
    "        return -1\n",
    "    else:\n",
    "        res = list(coll)[-1]\n",
    "        t = (res,coll[res])\n",
    "        del coll[res]\n",
    "    return t\n",
    "\n",
    "d = {'a':1,'b':2,'c':3,'d':4}\n",
    "print(u_popitem(d))\n",
    "print(d)"
   ]
  },
  {
   "cell_type": "code",
   "execution_count": 26,
   "metadata": {},
   "outputs": [
    {
     "name": "stdout",
     "output_type": "stream",
     "text": [
      "dict_keys(['a', 'b', 'c', 'd'])\n",
      "['a', 'b', 'c', 'd']\n"
     ]
    }
   ],
   "source": [
    "d = {'a':1,'b':2,'c':3,'d':4}\n",
    "print(d.keys())\n",
    "#.keys()\n",
    "#predefined function\n",
    "#it will fetch the keys from the dict and returns them as object\n",
    "#we cannot utilize the keys but can be typecasted or used as iterator\n",
    "\n",
    "\n",
    "#user defined\n",
    "d = {'a':1,'b':2,'c':3,'d':4}\n",
    "def u_keys(coll):\n",
    "    if type(coll)!=dict:\n",
    "        return -1\n",
    "    else:\n",
    "        return list(coll)\n",
    "print(u_keys(d))"
   ]
  },
  {
   "cell_type": "code",
   "execution_count": 38,
   "metadata": {},
   "outputs": [
    {
     "name": "stdout",
     "output_type": "stream",
     "text": [
      "[1, 2, 3, 4]\n",
      "[1, 2, 3, 4]\n"
     ]
    }
   ],
   "source": [
    "#.values()\n",
    "#predefined function\n",
    "#no arguments\n",
    "#it will fetch values from the dict ans returns as object\n",
    "# we cannot utilize but can be typecasted and used as iterator\n",
    "\n",
    "d = {'a':1,'b':2,'c':3,'d':4}\n",
    "print(list(d.values()))\n",
    "\n",
    "\n",
    "def u_values(coll):\n",
    "    if type(coll)!=dict:\n",
    "        return -1\n",
    "    res = []\n",
    "    for i in coll:\n",
    "        res+=[coll[i]]\n",
    "    return res\n",
    "\n",
    "print(u_values(d))"
   ]
  },
  {
   "cell_type": "code",
   "execution_count": 37,
   "metadata": {},
   "outputs": [
    {
     "name": "stdout",
     "output_type": "stream",
     "text": [
      "[('a', 1), ('b', 2), ('c', [23]), ('d', 4)]\n",
      "[('a', 1), ('b', 2), ('c', [23]), ('d', 4)]\n"
     ]
    }
   ],
   "source": [
    "#items()\n",
    "\n",
    "d = {'a':1,'b':2,'c':[23],'d':4}\n",
    "print(list(d.items()))\n",
    "\n",
    "\n",
    "#user defined\n",
    "def u_items(coll):\n",
    "    if type(coll)!=dict:\n",
    "        return -1\n",
    "    res = []\n",
    "    for i in coll:\n",
    "        t = (i,coll[i])\n",
    "        res+=[t]\n",
    "    return res\n",
    "\n",
    "print(u_items(d))"
   ]
  },
  {
   "cell_type": "code",
   "execution_count": 6,
   "metadata": {},
   "outputs": [
    {
     "name": "stdout",
     "output_type": "stream",
     "text": [
      "{'a': 25, 'b': 25, 'c': 25, 'd': 25}\n",
      "{'a': 1, 'b': 2, 'c': 3, 'd': 4}\n"
     ]
    }
   ],
   "source": [
    "#from keys\n",
    "d = {'a':1,'b':2,'c':3,'d':4}\n",
    "print(d.fromkeys(d,25))\n",
    "print(d)"
   ]
  }
 ],
 "metadata": {
  "kernelspec": {
   "display_name": "Python 3",
   "language": "python",
   "name": "python3"
  },
  "language_info": {
   "codemirror_mode": {
    "name": "ipython",
    "version": 3
   },
   "file_extension": ".py",
   "mimetype": "text/x-python",
   "name": "python",
   "nbconvert_exporter": "python",
   "pygments_lexer": "ipython3",
   "version": "3.11.4"
  },
  "orig_nbformat": 4
 },
 "nbformat": 4,
 "nbformat_minor": 2
}
