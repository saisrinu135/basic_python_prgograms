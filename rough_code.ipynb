{
 "cells": [
  {
   "cell_type": "code",
   "execution_count": null,
   "metadata": {},
   "outputs": [],
   "source": [
    "def bus_seats(seats):\n",
    "    available = []\n",
    "    booked = []\n",
    "    for seat in seats:\n",
    "        if seats[seat] == True:\n",
    "            available+=[seat]\n",
    "        else:\n",
    "            booked+=[seat]\n",
    "    return (available,booked)\n",
    "counted_seats = bus_seats(seats)\n",
    "\n",
    "print(\"Total seats\", len(seats))\n",
    "print(\"Available seats\",counted_seats[0])\n",
    "print(\"Total available seats\",len(counted_seats[0]))"
   ]
  }
 ],
 "metadata": {
  "language_info": {
   "name": "python"
  },
  "orig_nbformat": 4
 },
 "nbformat": 4,
 "nbformat_minor": 2
}
