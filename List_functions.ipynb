{
 "cells": [
  {
   "attachments": {},
   "cell_type": "markdown",
   "metadata": {},
   "source": [
    ".append()\n",
    "predefined function\n",
    "accepts one input that is element to be added in to list.\n",
    "Adds the element in the edn of the list.\n",
    "Memory address is not changed"
   ]
  },
  {
   "cell_type": "code",
   "execution_count": 3,
   "metadata": {},
   "outputs": [
    {
     "name": "stdout",
     "output_type": "stream",
     "text": [
      "[1, 2, 3, 4, 5, 6, 10]\n"
     ]
    }
   ],
   "source": [
    "l = [1,2,3,4,5,6]\n",
    "l.append(10)\n",
    "print(l)"
   ]
  },
  {
   "cell_type": "code",
   "execution_count": 7,
   "metadata": {},
   "outputs": [
    {
     "name": "stdout",
     "output_type": "stream",
     "text": [
      "2171237963776\n",
      "[1, 2, 3, 4, 5, 6, 10]\n",
      "2171237963776\n"
     ]
    }
   ],
   "source": [
    "#User defined\n",
    "def u_append(coll,ele):\n",
    "    coll+=[ele]\n",
    "    return coll\n",
    "t = [1,2,3,4,5,6]\n",
    "print(id(t))\n",
    "print(u_append(t,10))\n",
    "print(id(t))"
   ]
  },
  {
   "attachments": {},
   "cell_type": "markdown",
   "metadata": {},
   "source": [
    ".extend()\n",
    "Predefined function\n",
    "Accepts one input\n",
    "New value should be iterable (any type list, tuple, set,dict (keys are added))"
   ]
  },
  {
   "cell_type": "code",
   "execution_count": 8,
   "metadata": {},
   "outputs": [
    {
     "name": "stdout",
     "output_type": "stream",
     "text": [
      "[1, 2, 3, 4, 5, 6, 7, 'a', 'b', 8, 9, 10, 'c', 'd']\n"
     ]
    }
   ],
   "source": [
    "list1 = [1,2,3,4,5,6,7,'a','b']\n",
    "list2 = [8,9,10,'c','d']\n",
    "list1.extend(list2)\n",
    "print(list1)"
   ]
  },
  {
   "cell_type": "code",
   "execution_count": 2,
   "metadata": {},
   "outputs": [
    {
     "name": "stdout",
     "output_type": "stream",
     "text": [
      "[1, 2, 3, 4, 5, 'j', '9', '9']\n"
     ]
    }
   ],
   "source": [
    "tt = [1,2,3,4,5,'j']\n",
    "tt.extend('99')\n",
    "print(tt)"
   ]
  },
  {
   "cell_type": "code",
   "execution_count": 12,
   "metadata": {},
   "outputs": [
    {
     "data": {
      "text/plain": [
       "-1"
      ]
     },
     "execution_count": 12,
     "metadata": {},
     "output_type": "execute_result"
    }
   ],
   "source": [
    "#user defined\n",
    "\n",
    "def u_extend(col1, col2):\n",
    "    if type(col2) not in [str,list,tuple,set,dict]:\n",
    "        return -1\n",
    "    for i in col2:\n",
    "        col1+=[i]\n",
    "    return col1\n",
    "\n",
    "u_extend(list1,10)  #Since 10 is not iterable so returns -1"
   ]
  },
  {
   "cell_type": "code",
   "execution_count": 3,
   "metadata": {},
   "outputs": [],
   "source": [
    "t = [-5,1,6,-7,2,0,-1]\n",
    "l = []\n",
    "for i in range(len(l)):\n",
    "    pass"
   ]
  },
  {
   "cell_type": "code",
   "execution_count": 4,
   "metadata": {},
   "outputs": [
    {
     "name": "stdout",
     "output_type": "stream",
     "text": [
      "[1, 2, 3, 560]\n"
     ]
    }
   ],
   "source": [
    "#.insert()\n",
    "#predefined function\n",
    "#Accepts 2 arguments 1. index value and 2. Element to be added\n",
    "#Adderss is not changed\n",
    "#If index is out of range, it will add ele in the end of the collection.\n",
    "\n",
    "l = [1,2,3]\n",
    "l.insert(5, 560)\n",
    "print(l)"
   ]
  },
  {
   "cell_type": "code",
   "execution_count": 10,
   "metadata": {},
   "outputs": [
    {
     "name": "stdout",
     "output_type": "stream",
     "text": [
      "[1, 2, 3, 4, 5, 6, 7, 5]\n"
     ]
    }
   ],
   "source": [
    "def u_insert(coll, ind,ele):\n",
    "    if len(coll)<ind:\n",
    "        coll+=[ele]\n",
    "    else:\n",
    "        coll[ind:ind] = [ele]\n",
    "        \n",
    "l = [1,2,3,4,5,6,7]\n",
    "\n",
    "u_insert(l, 10,5)\n",
    "print(l)"
   ]
  },
  {
   "cell_type": "code",
   "execution_count": 12,
   "metadata": {},
   "outputs": [
    {
     "data": {
      "text/plain": [
       "[123477, 99, 100, 12]"
      ]
     },
     "execution_count": 12,
     "metadata": {},
     "output_type": "execute_result"
    }
   ],
   "source": [
    "#Another method\n",
    "\n",
    "def uu_insert(coll, ind,ele):\n",
    "    if len(l)<ind:\n",
    "        ind = len(l)\n",
    "    coll[ind:ind] = [ele]\n",
    "    return l\n",
    "l = [123477,99,100]\n",
    "uu_insert(l, 34,12)"
   ]
  },
  {
   "cell_type": "code",
   "execution_count": 16,
   "metadata": {},
   "outputs": [
    {
     "name": "stdout",
     "output_type": "stream",
     "text": [
      "[10, 20, 30, 40, 50, 60] 2628553333312\n",
      "[10, 20, 1000, 30, 40, 50, 60] 2628553333312\n"
     ]
    }
   ],
   "source": [
    "u = [10,20,30,40,50,60]\n",
    "print(u, id(u))\n",
    "def uuu_insert(coll,ind,ele):\n",
    "    temp = coll.copy()  #creates a copy of u\n",
    "    start = 0\n",
    "    while start<len(temp): #Deletes every element in coll\n",
    "        del coll[0]\n",
    "        start+=1\n",
    "    \n",
    "    i = 0\n",
    "    while i<len(temp):\n",
    "        if ind == i:\n",
    "            coll+=[ele]   # inserts ele in index position\n",
    "            coll+=[temp[i]] #inserts previous element from list\n",
    "        else:\n",
    "            coll+=[temp[i]] #Inserts other elements\n",
    "        i+=1\n",
    "\n",
    "\n",
    "uuu_insert(u, 2,1000)\n",
    "print(u,id(u))"
   ]
  },
  {
   "cell_type": "code",
   "execution_count": 17,
   "metadata": {},
   "outputs": [
    {
     "name": "stdout",
     "output_type": "stream",
     "text": [
      "['a', 'b', 34, 'c', 'd', 'e']\n"
     ]
    }
   ],
   "source": [
    "#Changes address\n",
    "\n",
    "x = ['a','b','c','d','e']\n",
    "def l_insert(coll,ind,ele):\n",
    "    res = []\n",
    "    for i in range(len(coll)):\n",
    "        if ind == i:\n",
    "            res+=[ele,coll[i]]\n",
    "        else:\n",
    "            res+=coll[i]\n",
    "    print(res)\n",
    "\n",
    "l_insert(x,2,34)"
   ]
  },
  {
   "cell_type": "code",
   "execution_count": 19,
   "metadata": {},
   "outputs": [
    {
     "name": "stdout",
     "output_type": "stream",
     "text": [
      "[]\n"
     ]
    }
   ],
   "source": [
    "#.clear()\n",
    "#Predefined function\n",
    "#It will clear all the data items in the collection but address will be same.\n",
    "#returns empty existing list\n",
    "#No arguments \n",
    "\n",
    "l = [1,2,3,4,5,66,12]\n",
    "l.clear()\n",
    "print(l)"
   ]
  },
  {
   "cell_type": "code",
   "execution_count": 31,
   "metadata": {},
   "outputs": [
    {
     "name": "stdout",
     "output_type": "stream",
     "text": [
      "2628559017280\n",
      "[]\n",
      "2628559017280\n"
     ]
    }
   ],
   "source": [
    "#User defined \n",
    "li = [12,23,34,45,56,67,78]\n",
    "print(id(li))\n",
    "def u_clear(coll):\n",
    "    for i in range(len(coll)):\n",
    "        del coll[0]\n",
    "    return li\n",
    "print(u_clear(li))\n",
    "print(id(li))"
   ]
  },
  {
   "cell_type": "code",
   "execution_count": 12,
   "metadata": {},
   "outputs": [
    {
     "name": "stdout",
     "output_type": "stream",
     "text": [
      "[1, 2, 3, 4, 5]\n",
      "[1, 2, 3, 4, 5]\n",
      "2255584443648 2255584344256\n"
     ]
    }
   ],
   "source": [
    "#Built in .copy()\n",
    "lii = [1,2,3,4,5]\n",
    "print(lii)\n",
    "lis = lii.copy()\n",
    "print(lis)\n",
    "print(id(lii), id(lis))\n"
   ]
  },
  {
   "cell_type": "code",
   "execution_count": 9,
   "metadata": {},
   "outputs": [
    {
     "name": "stdout",
     "output_type": "stream",
     "text": [
      "[10, 20, 30] 2255583570112\n",
      "[10, 20, 30] 2255584125248\n"
     ]
    }
   ],
   "source": [
    "#.copy()\n",
    "#Predefined function\n",
    "#No inputs accepted\n",
    "#returns new collection with new address with same data\n",
    "\n",
    "u = [10,20,30]\n",
    "print(u,id(u))\n",
    "\n",
    "def u_copy(coll):\n",
    "    res = []\n",
    "    for i in coll:\n",
    "        res+=[i]\n",
    "    return res\n",
    "\n",
    "p = u_copy(u)\n",
    "print(p,id(p))"
   ]
  },
  {
   "cell_type": "code",
   "execution_count": 20,
   "metadata": {},
   "outputs": [
    {
     "data": {
      "text/plain": [
       "0"
      ]
     },
     "execution_count": 20,
     "metadata": {},
     "output_type": "execute_result"
    }
   ],
   "source": [
    "#.count()\n",
    "#Predefined function\n",
    "#accepts one input that is element to be counted\n",
    "#returns 0 id element is not present\n",
    "\n",
    "liss = [1,2,3,4,55,1,6,2,7,10,19]\n",
    "liss.count(11)"
   ]
  },
  {
   "cell_type": "code",
   "execution_count": 23,
   "metadata": {},
   "outputs": [
    {
     "data": {
      "text/plain": [
       "1"
      ]
     },
     "execution_count": 23,
     "metadata": {},
     "output_type": "execute_result"
    }
   ],
   "source": [
    "#user defined\n",
    "\n",
    "def u_count(coll,ele):\n",
    "    count = 0\n",
    "    for i in coll:\n",
    "        if i == ele:\n",
    "            count+=1\n",
    "    return count\n",
    "\n",
    "u_count(liss,55)"
   ]
  },
  {
   "cell_type": "code",
   "execution_count": 16,
   "metadata": {},
   "outputs": [
    {
     "data": {
      "text/plain": [
       "8"
      ]
     },
     "execution_count": 16,
     "metadata": {},
     "output_type": "execute_result"
    }
   ],
   "source": [
    "#index()\n",
    "#Predefined function\n",
    "#Accepts 3 arguments 1. ele, 2. starting index, 3. Ending index\n",
    "#returns index of element if present otherwise returns value error\n",
    "\n",
    "alist = [1,2,3,4,5,6,7,8,10]\n",
    "alist.index(10,5,10)"
   ]
  },
  {
   "cell_type": "code",
   "execution_count": 11,
   "metadata": {},
   "outputs": [
    {
     "data": {
      "text/plain": [
       "8"
      ]
     },
     "execution_count": 11,
     "metadata": {},
     "output_type": "execute_result"
    }
   ],
   "source": [
    "#user defined function without range\n",
    "def u_index(coll, ele):\n",
    "    for i in range(len(coll)):\n",
    "        if coll[i] == ele:\n",
    "            return i\n",
    "    raise ValueError\n",
    "\n",
    "\n",
    "u_index(alist,10)\n"
   ]
  },
  {
   "cell_type": "code",
   "execution_count": 17,
   "metadata": {},
   "outputs": [
    {
     "data": {
      "text/plain": [
       "8"
      ]
     },
     "execution_count": 17,
     "metadata": {},
     "output_type": "execute_result"
    }
   ],
   "source": [
    "#user defined function with range\n",
    "\n",
    "def uu_index(coll,ele,start = 0, end = 0):\n",
    "    if end == 0:\n",
    "        end = len(coll)\n",
    "    for i in range(start,end):\n",
    "        if coll[i]==ele:\n",
    "            return [i,len(coll)+i][start<0]\n",
    "    return -1\n",
    "\n",
    "uu_index(alist,10,5,10)"
   ]
  },
  {
   "cell_type": "code",
   "execution_count": 18,
   "metadata": {},
   "outputs": [
    {
     "data": {
      "text/plain": [
       "4"
      ]
     },
     "execution_count": 18,
     "metadata": {},
     "output_type": "execute_result"
    }
   ],
   "source": [
    "#ANother method\n",
    "\n",
    "def indexx(coll,ele,start=0,end=0):\n",
    "    if end == 0:\n",
    "        end = len(coll)\n",
    "    if start<0:\n",
    "        start = len(coll)+start\n",
    "    if end<0:\n",
    "        end = len(coll)+end\n",
    "    for i in range(start,end):\n",
    "        if coll[i]==ele:\n",
    "            return i\n",
    "    return -1\n",
    "\n",
    "indexx(alist,5,1,-1)"
   ]
  },
  {
   "cell_type": "code",
   "execution_count": 28,
   "metadata": {},
   "outputs": [
    {
     "data": {
      "text/plain": [
       "5"
      ]
     },
     "execution_count": 28,
     "metadata": {},
     "output_type": "execute_result"
    }
   ],
   "source": [
    "#With occurance\n",
    "\n",
    "def occur_index(coll,ele,occur=1,start=0,end=0):\n",
    "    if end == 0:\n",
    "        end = len(coll)\n",
    "    if start<0:\n",
    "        start = start+len(coll)\n",
    "    if end<0:\n",
    "        end = end+len(coll)\n",
    "    count = 0\n",
    "    for i in range(start,end):\n",
    "        if coll[i]==ele:\n",
    "            count+=1\n",
    "            if count == occur:\n",
    "                return i\n",
    "    return -1\n",
    "\n",
    "alist = [1,2,3,1,2,3,1,2,3,1,2,3]\n",
    "occur_index(alist,3,2)"
   ]
  },
  {
   "cell_type": "code",
   "execution_count": 41,
   "metadata": {},
   "outputs": [
    {
     "name": "stdout",
     "output_type": "stream",
     "text": [
      "10\n",
      "8\n",
      "[1, 2, 4, 5, 7, 9]\n"
     ]
    }
   ],
   "source": [
    "#.pop()\n",
    "#predefined function\n",
    "#accepts one argument that is index position value\n",
    "#returns the mentioned index element and removes from the list and if index is not given, removes last element.\n",
    "\n",
    "blist = [1,2,4,5,7,8,9,10]\n",
    "print(blist.pop()) #returns last element and removes from the list\n",
    "print(blist.pop(5)) #returns mentioned index element and removes from the list\n",
    "print(blist)"
   ]
  },
  {
   "cell_type": "code",
   "execution_count": 43,
   "metadata": {},
   "outputs": [
    {
     "name": "stdout",
     "output_type": "stream",
     "text": [
      "47\n",
      "[1, 2, 3, 4, 5, 6, 10, 7, 16]\n",
      "6\n",
      "[1, 2, 3, 4, 5, 10, 7, 16]\n"
     ]
    }
   ],
   "source": [
    "#user defined function\n",
    "\n",
    "def u_pop(coll,ind = -1):\n",
    "    res = coll[ind]\n",
    "    del coll[ind]\n",
    "    return res\n",
    "\n",
    "blist = [1,2,3,4,5,6,10,7,16,47]\n",
    "print(u_pop(blist))\n",
    "print(blist)\n",
    "print(u_pop(blist,5))\n",
    "print(blist)"
   ]
  },
  {
   "cell_type": "code",
   "execution_count": 1,
   "metadata": {},
   "outputs": [
    {
     "ename": "ValueError",
     "evalue": "list.remove(x): x not in list",
     "output_type": "error",
     "traceback": [
      "\u001b[1;31m---------------------------------------------------------------------------\u001b[0m",
      "\u001b[1;31mValueError\u001b[0m                                Traceback (most recent call last)",
      "Cell \u001b[1;32mIn[1], line 3\u001b[0m\n\u001b[0;32m      1\u001b[0m \u001b[39m#remove()\u001b[39;00m\n\u001b[0;32m      2\u001b[0m clist \u001b[39m=\u001b[39m [\u001b[39m1\u001b[39m,\u001b[39m2\u001b[39m,\u001b[39m4\u001b[39m,\u001b[39m6\u001b[39m,\u001b[39m22\u001b[39m,\u001b[39m44\u001b[39m,\u001b[39m66\u001b[39m,\u001b[39m77\u001b[39m,\u001b[39m8\u001b[39m,\u001b[39m100\u001b[39m]\n\u001b[1;32m----> 3\u001b[0m clist\u001b[39m.\u001b[39;49mremove(\u001b[39m111\u001b[39;49m)\n\u001b[0;32m      4\u001b[0m \u001b[39mprint\u001b[39m(clist)\n",
      "\u001b[1;31mValueError\u001b[0m: list.remove(x): x not in list"
     ]
    }
   ],
   "source": [
    "#remove()\n",
    "clist = [1,2,4,6,22,44,66,77,8,100]\n",
    "clist.remove(111)\n",
    "print(clist)"
   ]
  },
  {
   "cell_type": "code",
   "execution_count": 8,
   "metadata": {},
   "outputs": [
    {
     "name": "stdout",
     "output_type": "stream",
     "text": [
      "-1\n",
      "[1, 2, 4, 6, 22, 44, 66, 77, 8, 100]\n"
     ]
    }
   ],
   "source": [
    "#User defined\n",
    "\n",
    "def u_remove(coll,ele):\n",
    "    for i in range(len(coll)):\n",
    "        if coll[i]==ele:\n",
    "            del coll[i]\n",
    "            return None\n",
    "    return -1\n",
    "clist = [1,2,4,6,22,44,66,77,8,100]\n",
    "print(u_remove(clist,101))\n",
    "print(clist)"
   ]
  },
  {
   "cell_type": "code",
   "execution_count": 11,
   "metadata": {},
   "outputs": [
    {
     "name": "stdout",
     "output_type": "stream",
     "text": [
      "[110, 99, 88, 77, 66, 55, 44, 33, 22, 11]\n"
     ]
    }
   ],
   "source": [
    "dlist = [11,22,33,44,55,66,77,88,99,110]\n",
    "dlist.reverse()\n",
    "print(dlist)"
   ]
  },
  {
   "cell_type": "code",
   "execution_count": 24,
   "metadata": {},
   "outputs": [
    {
     "name": "stdout",
     "output_type": "stream",
     "text": [
      "[11, 22, 33, 44, 55, 66, 77, 88, 99, 110]\n",
      "[110, 99, 88, 77, 66, 55, 44, 33, 22, 11]\n"
     ]
    }
   ],
   "source": [
    "#reverse()\n",
    "#predefined function which reverse the order of the elements in list without changing the address\n",
    "#No arguments are accepted\n",
    "#Does not return anything\n",
    "\n",
    "dlist = [11,22,33,44,55,66,77,88,99,110]\n",
    "print(dlist)\n",
    "def u_reverse(coll):\n",
    "    j = -1\n",
    "    for i in range(len(coll)//2):\n",
    "        coll[i],coll[j] = coll[j],coll[i]\n",
    "        j-=1\n",
    "u_reverse(dlist)\n",
    "print(dlist)"
   ]
  },
  {
   "cell_type": "code",
   "execution_count": 15,
   "metadata": {},
   "outputs": [
    {
     "name": "stdout",
     "output_type": "stream",
     "text": [
      "[11, 22, 33, 44, 55, 66, 77, 88, 99, 110] 2297142381440\n",
      "[110, 99, 88, 77, 66, 55, 44, 33, 22, 11] 2297142381440\n"
     ]
    }
   ],
   "source": [
    "def uu_reverse(coll):\n",
    "    temp = coll.copy()\n",
    "    for i in range(len(coll)):\n",
    "        del coll[0]\n",
    "    for j in range(0,len(temp)):\n",
    "        coll[j:j] = [temp[-1]]\n",
    "        del temp[-1]\n",
    "    \n",
    "\n",
    "dlist = [11,22,33,44,55,66,77,88,99,110]\n",
    "print(dlist,id(dlist))\n",
    "\n",
    "uu_reverse(dlist)\n",
    "print(dlist,id(dlist))"
   ]
  },
  {
   "cell_type": "code",
   "execution_count": 1,
   "metadata": {},
   "outputs": [
    {
     "name": "stdout",
     "output_type": "stream",
     "text": [
      "[0, 2, 5, 8, 19]\n",
      "[19, 8, 5, 2, 0]\n"
     ]
    }
   ],
   "source": [
    "sort_list = [5,2,8,19,0]\n",
    "sort_list.sort()\n",
    "print(sort_list)\n",
    "sort_list.sort(reverse = True)\n",
    "print(sort_list)"
   ]
  },
  {
   "cell_type": "code",
   "execution_count": 12,
   "metadata": {},
   "outputs": [
    {
     "name": "stdout",
     "output_type": "stream",
     "text": [
      "[1, 2, 5, 23, 25, 34, 44, 67, 100, 124, 125, 234, 567, 2345]\n"
     ]
    }
   ],
   "source": [
    "flist = [2,5,1,34,44,100,25,67,23,124,125,567,2345,234]\n",
    "def list_sort(coll):\n",
    "    for j in range(len(coll)):\n",
    "        for i in range(len(coll)-1-j):\n",
    "            if coll[i]>coll[i+1]:\n",
    "                coll[i],coll[i+1] = coll[i+1],coll[i]\n",
    "list_sort(flist)\n",
    "print(flist)"
   ]
  },
  {
   "cell_type": "code",
   "execution_count": 13,
   "metadata": {},
   "outputs": [
    {
     "name": "stdout",
     "output_type": "stream",
     "text": [
      "[2, 5, 3, 6, 8, 10, 23, 45, 23]\n",
      "[2, 3, 5, 6, 8, 10, 23, 23, 45]\n"
     ]
    }
   ],
   "source": [
    "glist = [2,5,3,6,8,10,23,45,23]\n",
    "print(glist)\n",
    "def uu_sort(coll):\n",
    "    for i in range(0,len(coll)-1):\n",
    "        for j in range(0,len(coll)):\n",
    "            if coll[j]>coll[i+1]:\n",
    "                coll[j],coll[i+1]=coll[i+1],coll[j]\n",
    "uu_sort(glist)\n",
    "print(glist)"
   ]
  },
  {
   "cell_type": "code",
   "execution_count": 14,
   "metadata": {},
   "outputs": [
    {
     "name": "stdout",
     "output_type": "stream",
     "text": [
      "['hai', 'hello', 'bye', 'byee']\n",
      "['bye', 'byee', 'hai', 'hello']\n"
     ]
    }
   ],
   "source": [
    "glist = ['hai','hello','bye','byee']\n",
    "print(glist)\n",
    "def uu_sort(coll):\n",
    "    for i in range(0,len(coll)-1):\n",
    "        for j in range(0,len(coll)):\n",
    "            if coll[j]>coll[i+1]:\n",
    "                coll[j],coll[i+1]=coll[i+1],coll[j]\n",
    "uu_sort(glist)\n",
    "print(glist)"
   ]
  },
  {
   "cell_type": "code",
   "execution_count": 17,
   "metadata": {},
   "outputs": [
    {
     "name": "stdout",
     "output_type": "stream",
     "text": [
      "[2, 3, 5, 6, 8, 10, 23, 23, 25, 45, 111, 333, 555]\n"
     ]
    }
   ],
   "source": [
    "glist = [2,5,3,6,8,10,25,111,333,555,23,45,23]\n",
    "\n",
    "def s_sort(coll):\n",
    "    for i in range(0,len(coll)-1):\n",
    "        for j in range(i+1,len(coll)):\n",
    "            if coll[i]>coll[j]:\n",
    "                coll[i],coll[j] = coll[j],coll[i]\n",
    "\n",
    "s_sort(glist)\n",
    "print(glist)\n"
   ]
  },
  {
   "cell_type": "code",
   "execution_count": 19,
   "metadata": {},
   "outputs": [
    {
     "name": "stdout",
     "output_type": "stream",
     "text": [
      "[555, 333, 111, 45, 25, 23, 23, 10, 8, 6, 5, 3, 2]\n"
     ]
    }
   ],
   "source": [
    "glist = [2,5,3,6,8,10,25,111,333,555,23,45,23]\n",
    "def actual_sort(coll,reverse = False):\n",
    "    if reverse == True:\n",
    "        for i in range(0,len(coll)-1):\n",
    "            for j in range(i+1,len(coll)):\n",
    "                if coll[i]<coll[j]:\n",
    "                    coll[i],coll[j] = coll[j],coll[i]\n",
    "    else:\n",
    "        for i in range(0,len(coll)-1):\n",
    "            for j in range(i+1,len(coll)):\n",
    "                if coll[i]>coll[j]:\n",
    "                    coll[i],coll[j] = coll[j],coll[i]\n",
    "actual_sort(glist,reverse = True)\n",
    "print(glist)\n",
    "\n"
   ]
  }
 ],
 "metadata": {
  "kernelspec": {
   "display_name": "Python 3",
   "language": "python",
   "name": "python3"
  },
  "language_info": {
   "codemirror_mode": {
    "name": "ipython",
    "version": 3
   },
   "file_extension": ".py",
   "mimetype": "text/x-python",
   "name": "python",
   "nbconvert_exporter": "python",
   "pygments_lexer": "ipython3",
   "version": "3.11.4"
  },
  "orig_nbformat": 4
 },
 "nbformat": 4,
 "nbformat_minor": 2
}
