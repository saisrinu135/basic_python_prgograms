{
 "cells": [
  {
   "attachments": {},
   "cell_type": "markdown",
   "metadata": {},
   "source": [
    "77. WAP to check whether a given value is positive or negatuve or neutral. If positive, display the positive with value or negatuve display the negative with value or else display the neutral with value"
   ]
  },
  {
   "cell_type": "code",
   "execution_count": 2,
   "metadata": {},
   "outputs": [
    {
     "name": "stdout",
     "output_type": "stream",
     "text": [
      "10 is positive\n"
     ]
    }
   ],
   "source": [
    "n = int(input())\n",
    "if n>0:\n",
    "    print(n, \"is positive\")\n",
    "elif n<0:\n",
    "    print(n, \"Is negative\")\n",
    "else:\n",
    "    print(n, \"is neutral\")"
   ]
  },
  {
   "cell_type": "code",
   "execution_count": 20,
   "metadata": {},
   "outputs": [
    {
     "name": "stdout",
     "output_type": "stream",
     "text": [
      "i\n"
     ]
    }
   ],
   "source": [
    "a='sai'\n",
    "\n",
    "a=\"sai\"\n",
    "print(a[::-3])"
   ]
  },
  {
   "attachments": {},
   "cell_type": "markdown",
   "metadata": {},
   "source": [
    "78. WAP to find out the greatest of three numbers, and display the greatest number."
   ]
  },
  {
   "cell_type": "code",
   "execution_count": 4,
   "metadata": {},
   "outputs": [
    {
     "name": "stdout",
     "output_type": "stream",
     "text": [
      "22 is greatest\n"
     ]
    }
   ],
   "source": [
    "n1 = int(input())\n",
    "n2 = int(input())\n",
    "n3 = int(input())\n",
    "if n1>n2>n3:\n",
    "    print(n1, \"is greatest\")\n",
    "elif n1<n2>n3:\n",
    "    print(n2,\"is greatest\")\n",
    "else:\n",
    "    print(n3, \"is greatest\")"
   ]
  },
  {
   "attachments": {},
   "cell_type": "markdown",
   "metadata": {},
   "source": [
    "79. WAP to check whether a given number is divisible by 3 and 5. If the number is divisible by 3 print fixx, if the number divisible by 5 print 'buzz' if it divisible by both then print fizz buzz"
   ]
  },
  {
   "cell_type": "code",
   "execution_count": null,
   "metadata": {},
   "outputs": [],
   "source": [
    "n = int(input())\n",
    "if n%3 == 0 and n%5 == 0:\n",
    "    print(\"Fizz Buzz\")\n",
    "elif: n%3==0 or n%==0:\n",
    "    if n%3==0:\n",
    "        print(\"Fizz\")\n",
    "    else:\n",
    "        print(\"Buzz\")"
   ]
  },
  {
   "attachments": {},
   "cell_type": "markdown",
   "metadata": {},
   "source": [
    "80. WAP to find out the relationship between two values and display the relationship"
   ]
  },
  {
   "cell_type": "code",
   "execution_count": null,
   "metadata": {},
   "outputs": [],
   "source": [
    "n1 = int(input())\n",
    "n2 = int(input())\n",
    "if n1>n2:\n",
    "    print(n1, \"greater than\",n2)\n",
    "elif n1<n2:\n",
    "    print(n2, \"is greater than\" n1)\n",
    "else:\n",
    "    print(n1, \"is equal to\", n2)"
   ]
  },
  {
   "attachments": {},
   "cell_type": "markdown",
   "metadata": {},
   "source": [
    "81. WAP to check if a given number is one digit or two digit or three digit or more than 3 digit. If one digit display the one digit, if two digit display the two digit value and so on."
   ]
  },
  {
   "cell_type": "code",
   "execution_count": null,
   "metadata": {},
   "outputs": [],
   "source": [
    "n = int(input())\n",
    "n = len(str(n))\n",
    "if n == 1:\n",
    "    print(\"One digit\")\n",
    "elif n == 2:\n",
    "    print(\"Two digit\")\n",
    "elif n ==3:\n",
    "    print(\"Three digit\")"
   ]
  },
  {
   "attachments": {},
   "cell_type": "markdown",
   "metadata": {},
   "source": [
    "82. WAP to check whether a given character is an alphabet or ascii number or special character or invalid. If alphabet, display the alphabet with character or elif ascii number display the ascii number with character or else display the special character with character"
   ]
  },
  {
   "cell_type": "code",
   "execution_count": null,
   "metadata": {},
   "outputs": [],
   "source": [
    "ch = input()\n",
    "if 'A'<=ch<='Z' or 'a'<=ch<='z':\n",
    "    print(\"Alphabet\",ch)\n",
    "elif 0<=ch<=255:\n",
    "    print(\"Asci character\",ch)\n",
    "elif not ('A'<=ch<='Z' or 'a'<=ch<='z' or 0<=ch<=9):\n",
    "    print(\"special character\",ch)\n",
    "else:\n",
    "    print(\"Invalid\")"
   ]
  },
  {
   "attachments": {},
   "cell_type": "markdown",
   "metadata": {},
   "source": [
    "83. WAP to accept any number from 1-5 and display that number is word form"
   ]
  },
  {
   "cell_type": "code",
   "execution_count": null,
   "metadata": {},
   "outputs": [],
   "source": [
    "n = int(input())\n",
    "if n ==1:\n",
    "    print(\"One\")\n",
    "elif n==2:\n",
    "    print(\"Two\")\n",
    "elif n==3:\n",
    "    print(\"Three\")\n",
    "elif n ==4:\n",
    "    print(\"Four\")\n",
    "elif n == 5:\n",
    "    print(\"Five\")"
   ]
  },
  {
   "attachments": {},
   "cell_type": "markdown",
   "metadata": {},
   "source": [
    "84. WAP to check whether a given character is uppercase or lowercase or special character. if uppercase convert to lowercase or leif lowercase, conver into upper or else display the [revious, given and next characters and display it.]"
   ]
  },
  {
   "cell_type": "code",
   "execution_count": null,
   "metadata": {},
   "outputs": [],
   "source": [
    "ch = input()\n",
    "if 'A'<=ch<='Z':\n",
    "    print(chr(ord(ch)+32))\n",
    "elif 'a'<=ch<='z':\n",
    "    print(chr(ord(ch)-32))\n",
    "else:\n",
    "    print(chr(ord(ch)-1),chr(ord(ch)),chr(ord(ch)+1))"
   ]
  },
  {
   "attachments": {},
   "cell_type": "markdown",
   "metadata": {},
   "source": [
    "85. WAP to check the given character is in lowercase or uppercase, neumeric or special characters. Display the what type of case."
   ]
  },
  {
   "cell_type": "code",
   "execution_count": null,
   "metadata": {},
   "outputs": [],
   "source": [
    "ch = input()\n",
    "if 'A'<=ch<='Z':\n",
    "    print(\"uppercase\")\n",
    "elif 'a'<=ch<='z':\n",
    "    print(\"Lowercase\")\n",
    "elif 0<=ch<=9:\n",
    "    print(\"Number\")\n",
    "else:\n",
    "    print(\"Special Chracter\")"
   ]
  },
  {
   "attachments": {},
   "cell_type": "markdown",
   "metadata": {},
   "source": [
    "86. WAP to check whether a given percentage is which grade and display grade. "
   ]
  },
  {
   "cell_type": "code",
   "execution_count": null,
   "metadata": {},
   "outputs": [],
   "source": [
    "per = int(input())\n",
    "if per>60:\n",
    "    print(\"First class\")\n",
    "elif 40<=per<=60:\n",
    "    print(\"Second class\")\n",
    "else:\n",
    "    print(\"Fail\")"
   ]
  },
  {
   "attachments": {},
   "cell_type": "markdown",
   "metadata": {},
   "source": [
    "88. WAP to check whether collection is a list or tuple or set or character string. If list, append the new value in the middle of the list. If tuple, append the new value in the starting of the tuple.\n",
    "If set, append the new value in set, or else append a new key as given character and values as an ascii value with character."
   ]
  },
  {
   "cell_type": "code",
   "execution_count": null,
   "metadata": {},
   "outputs": [],
   "source": [
    "coll = eval(input())\n",
    "dictt = {}\n",
    "if type(coll)==list:\n",
    "    coll[len(coll)//2:len(coll)//2] =  eval(input())\n",
    "elif type(coll)==tuple:\n",
    "    (eval(input()),)+coll\n",
    "elif type(coll)==set:\n",
    "    coll | {eval(input())}\n",
    "else:\n",
    "    dictt[coll] = ord(coll)\n",
    "    "
   ]
  },
  {
   "attachments": {},
   "cell_type": "markdown",
   "metadata": {},
   "source": [
    "87. WAP to perform arithmatic operation depends on user choice"
   ]
  },
  {
   "cell_type": "code",
   "execution_count": null,
   "metadata": {},
   "outputs": [],
   "source": [
    "n1 = int(input())\n",
    "n2 = int(input())\n",
    "inputt = input()\n",
    "if inputt == '+':\n",
    "    print(n1+n2)\n",
    "elif inputt == '-':\n",
    "    print(n1=n2)\n",
    "elif inputt == '*':\n",
    "    print(n1*n2)\n",
    "elif inputt=='/':\n",
    "    print(n1/n2)"
   ]
  },
  {
   "attachments": {},
   "cell_type": "markdown",
   "metadata": {},
   "source": [
    "89. WAP to check whether a given value is integer or float or string or other, if integer, given value division by 5 and display the quotient.\n",
    "If float, perform the bitwise or operation with 15, if string extract for last position value and store in in the first positions of the string else stroe the value in the list and display the result."
   ]
  }
 ],
 "metadata": {
  "kernelspec": {
   "display_name": "Python 3",
   "language": "python",
   "name": "python3"
  },
  "language_info": {
   "codemirror_mode": {
    "name": "ipython",
    "version": 3
   },
   "file_extension": ".py",
   "mimetype": "text/x-python",
   "name": "python",
   "nbconvert_exporter": "python",
   "pygments_lexer": "ipython3",
   "version": "3.11.4"
  },
  "orig_nbformat": 4
 },
 "nbformat": 4,
 "nbformat_minor": 2
}
