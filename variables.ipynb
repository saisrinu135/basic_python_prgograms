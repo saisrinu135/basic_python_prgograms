{
 "cells": [
  {
   "cell_type": "code",
   "execution_count": 5,
   "metadata": {},
   "outputs": [
    {
     "name": "stdout",
     "output_type": "stream",
     "text": [
      "{'__name__': '__main__', '__doc__': 'Automatically created module for IPython interactive environment', '__package__': None, '__loader__': None, '__spec__': None, '__builtin__': <module 'builtins' (built-in)>, '__builtins__': <module 'builtins' (built-in)>, '_ih': ['', 'apple = 100\\nprint(globals())', 'apple = 100\\nprint(globals())\\ndef sample()', 'apple = 100\\nprint(globals())\\ndef sample():\\n    pass', 'apple = 100\\nprint(globals())\\ndef sample():\\n    print(\"Locals:\",locals())', 'apple = 100\\nprint(globals())\\ndef sample():\\n    print(\"Locals:\",locals())\\nsample()'], '_oh': {}, '_dh': [WindowsPath('c:/Users/Saisrinu/Desktop/Python fullstack'), WindowsPath('c:/Users/Saisrinu/Desktop/Python fullstack')], 'In': ['', 'apple = 100\\nprint(globals())', 'apple = 100\\nprint(globals())\\ndef sample()', 'apple = 100\\nprint(globals())\\ndef sample():\\n    pass', 'apple = 100\\nprint(globals())\\ndef sample():\\n    print(\"Locals:\",locals())', 'apple = 100\\nprint(globals())\\ndef sample():\\n    print(\"Locals:\",locals())\\nsample()'], 'Out': {}, 'get_ipython': <bound method InteractiveShell.get_ipython of <ipykernel.zmqshell.ZMQInteractiveShell object at 0x000001D12FA5EFD0>>, 'exit': <IPython.core.autocall.ZMQExitAutocall object at 0x000001D12FA6EC10>, 'quit': <IPython.core.autocall.ZMQExitAutocall object at 0x000001D12FA6EC10>, 'open': <function open at 0x000001D12D70CFE0>, '_': '', '__': '', '___': '', '__vsc_ipynb_file__': 'c:\\\\Users\\\\Saisrinu\\\\Desktop\\\\Python fullstack\\\\variables.ipynb', '_i': 'apple = 100\\nprint(globals())\\ndef sample():\\n    print(\"Locals:\",locals())', '_ii': 'apple = 100\\nprint(globals())\\ndef sample():\\n    pass', '_iii': 'apple = 100\\nprint(globals())\\ndef sample()', '_i1': 'apple = 100\\nprint(globals())', 'apple': 100, '_i2': 'apple = 100\\nprint(globals())\\ndef sample()', '_i3': 'apple = 100\\nprint(globals())\\ndef sample():\\n    pass', 'sample': <function sample at 0x000001D12FAAE7A0>, '_i4': 'apple = 100\\nprint(globals())\\ndef sample():\\n    print(\"Locals:\",locals())', '_i5': 'apple = 100\\nprint(globals())\\ndef sample():\\n    print(\"Locals:\",locals())\\nsample()'}\n",
      "Locals: {}\n"
     ]
    }
   ],
   "source": [
    "apple = 100\n",
    "print(globals())\n",
    "def sample():\n",
    "    print(\"Locals:\",locals())\n",
    "sample()"
   ]
  }
 ],
 "metadata": {
  "kernelspec": {
   "display_name": "Python 3",
   "language": "python",
   "name": "python3"
  },
  "language_info": {
   "codemirror_mode": {
    "name": "ipython",
    "version": 3
   },
   "file_extension": ".py",
   "mimetype": "text/x-python",
   "name": "python",
   "nbconvert_exporter": "python",
   "pygments_lexer": "ipython3",
   "version": "3.11.3"
  },
  "orig_nbformat": 4
 },
 "nbformat": 4,
 "nbformat_minor": 2
}
