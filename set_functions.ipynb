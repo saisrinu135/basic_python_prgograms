{
 "cells": [
  {
   "cell_type": "code",
   "execution_count": 2,
   "metadata": {},
   "outputs": [
    {
     "name": "stdout",
     "output_type": "stream",
     "text": [
      "{10, 20, 30} 1978400810912\n",
      "{120, 10, 20, 30} 1978400810912\n",
      "{10, 20, 120, 125, 30}\n"
     ]
    }
   ],
   "source": [
    "#add()\n",
    "#predefined\n",
    "se = {10,20,30}\n",
    "print(se,id(se))\n",
    "se.add(120)\n",
    "print(se,id(se))\n",
    "se.add(125)\n",
    "print(se)\n"
   ]
  },
  {
   "cell_type": "code",
   "execution_count": 8,
   "metadata": {},
   "outputs": [
    {
     "name": "stdout",
     "output_type": "stream",
     "text": [
      "{10, 20, 30, (125, 30)}\n"
     ]
    }
   ],
   "source": [
    "#User defined\n",
    "se = {10,20,30}\n",
    "def u_add(coll,ele):\n",
    "    if type(ele) in [list,set,dict]:\n",
    "        return -1\n",
    "    else:\n",
    "        coll |= {ele}\n",
    "u_add(se,(125,30))\n",
    "print(se)"
   ]
  },
  {
   "cell_type": "code",
   "execution_count": 29,
   "metadata": {},
   "outputs": [
    {
     "name": "stdout",
     "output_type": "stream",
     "text": [
      "{1, 2, 3, 4} 1931790659232\n"
     ]
    },
    {
     "data": {
      "text/plain": [
       "{1, 2, 3, 4, 25}"
      ]
     },
     "execution_count": 29,
     "metadata": {},
     "output_type": "execute_result"
    }
   ],
   "source": [
    "#union()\n",
    "#predefined\n",
    "aset = {1,2,3,4}\n",
    "print(aset,id(aset))\n",
    "aset.union({25})"
   ]
  },
  {
   "cell_type": "code",
   "execution_count": 32,
   "metadata": {},
   "outputs": [
    {
     "name": "stdout",
     "output_type": "stream",
     "text": [
      "{789, 567, 345, 234, 123}\n"
     ]
    }
   ],
   "source": [
    "#user defined\n",
    "aset = {123,345,567,789}\n",
    "def u_union(coll,ele):\n",
    "    if type(ele)!=set:\n",
    "        return -1\n",
    "    return coll | ele\n",
    "print(u_union(aset,{123,234,345}))\n"
   ]
  },
  {
   "cell_type": "code",
   "execution_count": 12,
   "metadata": {},
   "outputs": [
    {
     "name": "stdout",
     "output_type": "stream",
     "text": [
      "{451, 44, 12, 236, 19, 23, 56, 125, 222, 479}\n"
     ]
    }
   ],
   "source": [
    "#update\n",
    "\n",
    "bset = {222,44,12,56,19,23}\n",
    "bset1 = {125,236,451,479}\n",
    "\n",
    "bset.update(bset1)\n",
    "print(bset)"
   ]
  },
  {
   "cell_type": "code",
   "execution_count": 13,
   "metadata": {},
   "outputs": [
    {
     "data": {
      "text/plain": [
       "{12, 19, 23, 44, 56, 125, 222, 236, 451, 479}"
      ]
     },
     "execution_count": 13,
     "metadata": {},
     "output_type": "execute_result"
    }
   ],
   "source": [
    "# update User defined\n",
    "\n",
    "bset = {222,44,12,56,19,23}\n",
    "bset1 = {125,236,451,479}\n",
    "\n",
    "def u_update(coll1,coll2):\n",
    "    if type(coll2)!=set:\n",
    "        return -1\n",
    "    coll1|=coll2\n",
    "    return coll1\n",
    "\n",
    "u_update(bset,bset1)"
   ]
  },
  {
   "cell_type": "code",
   "execution_count": 3,
   "metadata": {},
   "outputs": [
    {
     "name": "stdout",
     "output_type": "stream",
     "text": [
      "{10, 20, 30} 2739165335552\n",
      "{1, 20, 4, 6} 2739165336448\n",
      "{10, 30}\n"
     ]
    }
   ],
   "source": [
    "cset = {10,20,30}\n",
    "cset1 = {20,4,6,1}\n",
    "print(cset,id(cset))\n",
    "print(cset1,id(cset1))\n",
    "\n",
    "#Pre defined differnece\n",
    "#It returns new set with difference values\n",
    "print(cset.difference(cset1))\n",
    "#Predefined differnence"
   ]
  },
  {
   "cell_type": "code",
   "execution_count": 2,
   "metadata": {},
   "outputs": [
    {
     "name": "stdout",
     "output_type": "stream",
     "text": [
      "{10, 30}\n"
     ]
    }
   ],
   "source": [
    "#User defined differnece\n",
    "#It returns new set with difference values\n",
    "cset = {10,20,30}\n",
    "cset1 = {20,4,6,1}\n",
    "\n",
    "def u_difference(coll1,coll2):\n",
    "    if type(coll2)!=set:\n",
    "        return -1\n",
    "    return coll1-coll2\n",
    "\n",
    "print(u_difference(cset,cset1))"
   ]
  },
  {
   "cell_type": "code",
   "execution_count": 5,
   "metadata": {},
   "outputs": [
    {
     "name": "stdout",
     "output_type": "stream",
     "text": [
      "{10, 30}\n"
     ]
    }
   ],
   "source": [
    "#difference_update()\n",
    "##it does not retun new set but update the left side set with new values\n",
    "cset = {10,20,30}\n",
    "cset1 = {20,4,6,1}\n",
    "\n",
    "cset.difference_update(cset1)\n",
    "print(cset)\n"
   ]
  },
  {
   "cell_type": "code",
   "execution_count": 7,
   "metadata": {},
   "outputs": [
    {
     "name": "stdout",
     "output_type": "stream",
     "text": [
      "{10, 30}\n"
     ]
    }
   ],
   "source": [
    "\n",
    "#it does not retun new set but update the left side set with new\n",
    "cset = {10,20,30}\n",
    "cset1 = {20,4,6,1}\n",
    "\n",
    "def u_difference(coll1,coll2):\n",
    "    if type(coll2)!=set:\n",
    "        return -1\n",
    "    coll1-=coll2\n",
    "\n",
    "u_difference(cset,cset1)\n",
    "print(cset)"
   ]
  },
  {
   "cell_type": "code",
   "execution_count": 10,
   "metadata": {},
   "outputs": [
    {
     "name": "stdout",
     "output_type": "stream",
     "text": [
      "{10, 20}\n"
     ]
    }
   ],
   "source": [
    "cset = {10,20,30}\n",
    "cset1 = {20,10,6,1}\n",
    "\n",
    "#intersection()\n",
    "# predefined function\n",
    "\n",
    "print(cset.intersection(cset1))"
   ]
  },
  {
   "cell_type": "code",
   "execution_count": 11,
   "metadata": {},
   "outputs": [
    {
     "name": "stdout",
     "output_type": "stream",
     "text": [
      "{10, 20}\n"
     ]
    }
   ],
   "source": [
    "cset = {10,20,30}\n",
    "cset1 = {20,10,6,1}\n",
    "\n",
    "def u_intersection(coll1,coll2):\n",
    "    if type(coll2)!=set:\n",
    "        return -1\n",
    "    return coll1&coll2\n",
    "\n",
    "print(u_intersection(cset,cset1))"
   ]
  },
  {
   "cell_type": "code",
   "execution_count": 14,
   "metadata": {},
   "outputs": [
    {
     "name": "stdout",
     "output_type": "stream",
     "text": [
      "{1, 10, 20, 6}\n"
     ]
    }
   ],
   "source": [
    "#intersection update\n",
    "\n",
    "cset = {10,20,30}\n",
    "cset1 = {20,10,6,1}\n",
    "\n",
    "def u_intersection_update(coll1,coll2):\n",
    "    if type(coll2)!=set:\n",
    "        return -1\n",
    "    coll1&=coll2\n",
    "u_intersection_update(cset,cset1)\n",
    "print(cset1)"
   ]
  },
  {
   "cell_type": "code",
   "execution_count": 15,
   "metadata": {},
   "outputs": [
    {
     "name": "stdout",
     "output_type": "stream",
     "text": [
      "{5, 7, 9, 10}\n"
     ]
    }
   ],
   "source": [
    "dset = {2,3,7,1,9}\n",
    "dset1 = {2,3,5,1,10}\n",
    "\n",
    "#symmetric_difference returns uncommon elements from both sets\n",
    "\n",
    "print(dset.symmetric_difference(dset1))"
   ]
  },
  {
   "cell_type": "code",
   "execution_count": 16,
   "metadata": {},
   "outputs": [
    {
     "name": "stdout",
     "output_type": "stream",
     "text": [
      "{5, 7, 9, 10}\n"
     ]
    }
   ],
   "source": [
    "#User defined\n",
    "\n",
    "dset = {2,3,7,1,9}\n",
    "dset1 = {2,3,5,1,10}\n",
    "\n",
    "def u_symmetric_differnce(coll1,coll2):\n",
    "    if type(coll2)!=set:\n",
    "        return -1\n",
    "    return coll1^coll2\n",
    "\n",
    "print(u_symmetric_differnce(dset,dset1))"
   ]
  },
  {
   "cell_type": "code",
   "execution_count": 19,
   "metadata": {},
   "outputs": [
    {
     "name": "stdout",
     "output_type": "stream",
     "text": [
      "{5, 7, 9, 10}\n"
     ]
    }
   ],
   "source": [
    "#symmetric difference update\n",
    "#updates left set with new values\n",
    "\n",
    "eset = {2,3,7,1,9}\n",
    "eset1 = {2,3,5,1,10}\n",
    "eset.symmetric_difference_update(eset1)\n",
    "print(eset)"
   ]
  },
  {
   "cell_type": "code",
   "execution_count": 21,
   "metadata": {},
   "outputs": [
    {
     "name": "stdout",
     "output_type": "stream",
     "text": [
      "{5, 7, 9, 10}\n"
     ]
    }
   ],
   "source": [
    "#User defined symmetric difference update\n",
    "\n",
    "def u_symmetric_differnce_update(coll1,coll2):\n",
    "    if type(coll2)!=set:\n",
    "        return -1\n",
    "    coll1^=coll2\n",
    "\n",
    "eset = {2,3,7,1,9}\n",
    "eset1 = {2,3,5,1,10}\n",
    "u_symmetric_differnce_update(eset,eset1)\n",
    "print(eset)"
   ]
  },
  {
   "cell_type": "code",
   "execution_count": 1,
   "metadata": {},
   "outputs": [
    {
     "name": "stdout",
     "output_type": "stream",
     "text": [
      "set()\n"
     ]
    }
   ],
   "source": [
    "#clear()\n",
    "#Predefined function\n",
    "eset = {2,3,7,1,9}\n",
    "eset.clear()\n",
    "print(eset)"
   ]
  },
  {
   "cell_type": "code",
   "execution_count": 3,
   "metadata": {},
   "outputs": [
    {
     "name": "stdout",
     "output_type": "stream",
     "text": [
      "set()\n"
     ]
    }
   ],
   "source": [
    "#user definend function\n",
    "\n",
    "eset = {2,3,7,1,9}\n",
    "def u_clear(coll):\n",
    "    coll-=coll\n",
    "\n",
    "u_clear(eset)\n",
    "print(eset)"
   ]
  },
  {
   "cell_type": "code",
   "execution_count": 5,
   "metadata": {},
   "outputs": [
    {
     "name": "stdout",
     "output_type": "stream",
     "text": [
      "{1, 2, 3, 7, 9}\n"
     ]
    }
   ],
   "source": [
    "eset = {2,3,7,1,9}\n",
    "res = eset.copy()\n",
    "print(res)"
   ]
  },
  {
   "cell_type": "code",
   "execution_count": 8,
   "metadata": {},
   "outputs": [
    {
     "data": {
      "text/plain": [
       "{1, 2, 3, 7, 9}"
      ]
     },
     "execution_count": 8,
     "metadata": {},
     "output_type": "execute_result"
    }
   ],
   "source": [
    "#User defined\n",
    "\n",
    "fset = {2,3,7,1,9}\n",
    "def u_copy(coll):\n",
    "    res = set()\n",
    "    for i in coll:\n",
    "        res|={i}\n",
    "    return res\n",
    "\n",
    "u_copy(fset)"
   ]
  },
  {
   "cell_type": "code",
   "execution_count": 2,
   "metadata": {},
   "outputs": [
    {
     "name": "stdout",
     "output_type": "stream",
     "text": [
      "1\n",
      "{2, 5, 56, 12, 45}\n"
     ]
    }
   ],
   "source": [
    "#pop()\n",
    "#predefined function\n",
    "#Which eliminates any one value from set and returns the value\n",
    "\n",
    "gset = {2,5,1,12,56,45}\n",
    "print(gset.pop())\n",
    "print(gset)"
   ]
  },
  {
   "cell_type": "code",
   "execution_count": 4,
   "metadata": {},
   "outputs": [
    {
     "name": "stdout",
     "output_type": "stream",
     "text": [
      "56\n",
      "{1, 2, 34, 5, 12, 45, 112}\n"
     ]
    }
   ],
   "source": [
    "#User defined function\n",
    "\n",
    "gset = {2,5,1,12,56,45,34,112}\n",
    "\n",
    "def u_pop(coll):\n",
    "    if len(coll)==0:\n",
    "        return -1\n",
    "    ele = list(coll)[-1]\n",
    "    coll -= {ele}\n",
    "    return ele\n",
    "\n",
    "print(u_pop(gset)) #returns value which is taken from set\n",
    "print(gset)"
   ]
  },
  {
   "cell_type": "code",
   "execution_count": 6,
   "metadata": {},
   "outputs": [
    {
     "name": "stdout",
     "output_type": "stream",
     "text": [
      "{1, 4, 23, 78}\n"
     ]
    }
   ],
   "source": [
    "hset = {1,4,23,78,100}\n",
    "hset.remove(100)\n",
    "print(hset)\n",
    "#It does not return any value but eliminates value in the set\n",
    "#returns keyErroe if element is not present"
   ]
  },
  {
   "cell_type": "code",
   "execution_count": 12,
   "metadata": {},
   "outputs": [
    {
     "name": "stdout",
     "output_type": "stream",
     "text": [
      "None\n",
      "{1, 100, 23, 78}\n"
     ]
    }
   ],
   "source": [
    "#user defined function\n",
    "hset = {1,4,23,78,100}\n",
    "\n",
    "def u_remove(coll,ele):\n",
    "    if type(coll)!=set:\n",
    "        return -1\n",
    "    if ele not in coll:\n",
    "        return -1\n",
    "    else:\n",
    "        coll-={ele}\n",
    "print(u_remove(hset,4)) #Doesnot return any value like pop()\n",
    "print(hset)"
   ]
  },
  {
   "cell_type": "code",
   "execution_count": 19,
   "metadata": {},
   "outputs": [
    {
     "name": "stdout",
     "output_type": "stream",
     "text": [
      "None\n",
      "{1, 4, 23, 78}\n"
     ]
    }
   ],
   "source": [
    "iset = {1,4,23,78,100}\n",
    "print(iset.discard(100))\n",
    "print(iset)\n",
    "\n",
    "#eliminates given values from set.\n",
    "#predefined function\n",
    "#doesnot raise any error if value is not present in the set like remove()"
   ]
  },
  {
   "cell_type": "code",
   "execution_count": 18,
   "metadata": {},
   "outputs": [
    {
     "name": "stdout",
     "output_type": "stream",
     "text": [
      "None\n",
      "{1, 100, 4, 23, 78}\n"
     ]
    }
   ],
   "source": [
    "#User defined function\n",
    "iset = {1,4,23,78,100}\n",
    "def u_discard(coll,ele):\n",
    "    if type(coll)!=set:\n",
    "        return -1\n",
    "    if ele not in coll:\n",
    "        return None\n",
    "    coll-={ele}\n",
    "\n",
    "print(u_discard(iset,101))\n",
    "print(iset)"
   ]
  },
  {
   "cell_type": "code",
   "execution_count": 39,
   "metadata": {},
   "outputs": [
    {
     "data": {
      "text/plain": [
       "False"
      ]
     },
     "execution_count": 39,
     "metadata": {},
     "output_type": "execute_result"
    }
   ],
   "source": [
    "#disjoint()\n",
    "#Compares both sets and if it finds that no common elements are found, then returns True otherwise False\n",
    "#Accepts one argument\n",
    "\n",
    "set1 = {123,567,124,568,334}\n",
    "set2 = {222,5666,124}\n",
    "set1.isdisjoint(set2)"
   ]
  },
  {
   "cell_type": "code",
   "execution_count": 40,
   "metadata": {},
   "outputs": [
    {
     "name": "stdout",
     "output_type": "stream",
     "text": [
      "False\n"
     ]
    }
   ],
   "source": [
    "#User defined function\n",
    "\n",
    "def u_isdisjoint(coll1,coll2):\n",
    "    if type(coll1)!=set:\n",
    "        return -1\n",
    "    if type(coll2) in [int,float,complex,bytes,bool,type(None)]:\n",
    "        return -1\n",
    "    else:\n",
    "        coll2 = set(coll2)\n",
    "    res = coll1&coll2\n",
    "    if res == set():\n",
    "        return True\n",
    "    else:\n",
    "        return False\n",
    "\n",
    "print(u_isdisjoint(set1,set2))"
   ]
  },
  {
   "cell_type": "code",
   "execution_count": 41,
   "metadata": {},
   "outputs": [
    {
     "data": {
      "text/plain": [
       "False"
      ]
     },
     "execution_count": 41,
     "metadata": {},
     "output_type": "execute_result"
    }
   ],
   "source": [
    "#Using loop\n",
    "\n",
    "def loop_disjoint(coll1,coll2):\n",
    "    for i in coll1:\n",
    "        for j in coll2:\n",
    "            if i == j:\n",
    "                return False\n",
    "    return True\n",
    "\n",
    "loop_disjoint(set1,set2)"
   ]
  },
  {
   "cell_type": "code",
   "execution_count": 56,
   "metadata": {},
   "outputs": [
    {
     "data": {
      "text/plain": [
       "True"
      ]
     },
     "execution_count": 56,
     "metadata": {},
     "output_type": "execute_result"
    }
   ],
   "source": [
    "#subset()\n",
    "x = {11,22,33,44}\n",
    "s = {11,22,33,44,55}\n",
    "x.issubset(s)\n",
    "#Predefined function\n",
    "#returns True if x elements are present in s otherwise False"
   ]
  },
  {
   "cell_type": "code",
   "execution_count": 57,
   "metadata": {},
   "outputs": [
    {
     "name": "stdout",
     "output_type": "stream",
     "text": [
      "True\n"
     ]
    }
   ],
   "source": [
    "#User defined function\n",
    "\n",
    "def u_issubset(coll1,coll2):\n",
    "    if type(coll1)!=set:\n",
    "        return -1\n",
    "    if type(coll2) in [int,float,complex,bytes,bool,type(None)]:\n",
    "        return -1\n",
    "    else:\n",
    "        coll2 = set(coll2)\n",
    "    for i in coll1:\n",
    "        if i not in coll2:\n",
    "            return False\n",
    "    return True\n",
    "\n",
    "print(u_issubset(x,s))"
   ]
  },
  {
   "cell_type": "code",
   "execution_count": 58,
   "metadata": {},
   "outputs": [
    {
     "name": "stdout",
     "output_type": "stream",
     "text": [
      "True\n"
     ]
    }
   ],
   "source": [
    "# subset without using loops\n",
    "\n",
    "def u_issubset(coll1,coll2):\n",
    "    if type(coll1)!=set:\n",
    "        return -1\n",
    "    if type(coll2) in [int,float,complex,bytes,bool,type(None)]:\n",
    "        return -1\n",
    "    else:\n",
    "        coll2 = set(coll2)\n",
    "    res = coll1&coll2\n",
    "    if res == coll1:\n",
    "        return True\n",
    "    else:\n",
    "        return False\n",
    "    \n",
    "print(u_issubset(x,s))"
   ]
  },
  {
   "cell_type": "code",
   "execution_count": 65,
   "metadata": {},
   "outputs": [
    {
     "name": "stdout",
     "output_type": "stream",
     "text": [
      "True\n",
      "True\n",
      "True\n"
     ]
    }
   ],
   "source": [
    "#issuperset()\n",
    "#predefined fucntion\n",
    "\n",
    "set1 = {10,20,30,40}\n",
    "set2 = {10,20,30}\n",
    "print(set1.issuperset(set2))\n",
    "\n",
    "\n",
    "#User defined function using loops\n",
    "def loop_superset(coll1,coll2):\n",
    "    if type(coll1)!=set:\n",
    "        return -1\n",
    "    if type(coll2) in [int,float,complex,bytes,bool,type(None)]:\n",
    "        return -1\n",
    "    else:\n",
    "        coll2 = set(coll2)\n",
    "    for i in coll2:\n",
    "        if i not in coll1:\n",
    "            return False\n",
    "    return True\n",
    "\n",
    "print(loop_superset(set1,set2))\n",
    "\n",
    "#User defined function without using loops and in operator\n",
    "\n",
    "def u_issuperset(coll1,coll2):\n",
    "    if type(coll1)!=set:\n",
    "        return -1\n",
    "    if type(coll2) in [int,float,complex,bytes,bool,type(None)]:\n",
    "        return -1\n",
    "    else:\n",
    "        coll2 = set(coll2)\n",
    "    res = coll2&coll1\n",
    "    if res == coll2:\n",
    "        return True\n",
    "    else:\n",
    "        return False\n",
    "    \n",
    "print(u_issuperset(set1,set2))\n",
    "\n"
   ]
  }
 ],
 "metadata": {
  "kernelspec": {
   "display_name": "Python 3",
   "language": "python",
   "name": "python3"
  },
  "language_info": {
   "codemirror_mode": {
    "name": "ipython",
    "version": 3
   },
   "file_extension": ".py",
   "mimetype": "text/x-python",
   "name": "python",
   "nbconvert_exporter": "python",
   "pygments_lexer": "ipython3",
   "version": "3.11.3"
  },
  "orig_nbformat": 4
 },
 "nbformat": 4,
 "nbformat_minor": 2
}
